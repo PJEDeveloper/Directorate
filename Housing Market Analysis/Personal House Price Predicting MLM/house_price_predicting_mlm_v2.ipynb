{
 "cells": [
  {
   "cell_type": "markdown",
   "id": "581d9ab1-1284-40dd-afe7-fbe647af6d57",
   "metadata": {},
   "source": [
    "__Import Libraries__"
   ]
  },
  {
   "cell_type": "code",
   "execution_count": 54,
   "id": "eeddb6fb-cef4-49b1-97f9-7a2c8ec1f52f",
   "metadata": {},
   "outputs": [],
   "source": [
    "import pandas as pd\n",
    "import numpy as np\n",
    "from sklearn.preprocessing import OneHotEncoder, StandardScaler\n",
    "from sklearn.compose import ColumnTransformer\n",
    "from sklearn.model_selection import train_test_split\n",
    "from sklearn.metrics import mean_squared_error\n",
    "from sklearn.pipeline import Pipeline\n",
    "from bqplot import Bars, Lines, LinearScale, DateScale, Axis, Figure, Layout\n",
    "from ipywidgets import VBox, HBox\n",
    "from sklearn.linear_model import LinearRegression, RidgeCV, LassoCV\n",
    "from sklearn.ensemble import RandomForestRegressor\n",
    "from sklearn.metrics import root_mean_squared_error, r2_score\n",
    "from sklearn.model_selection import GridSearchCV\n",
    "import xgboost as xgb"
   ]
  },
  {
   "cell_type": "markdown",
   "id": "ade2ff00-ace3-460b-8b49-7d6f148f6211",
   "metadata": {},
   "source": [
    "### Load Dataset from Zillow Home Value Index\n",
    "* Retrieved from https://www.zillow.com/research/data/\n",
    "* Data Type is Single-Family Homes Times Series ($) by county US wide"
   ]
  },
  {
   "cell_type": "code",
   "execution_count": 2,
   "id": "ae1a49c2-3ebd-4e40-a485-f69df92b5c31",
   "metadata": {},
   "outputs": [
    {
     "data": {
      "text/html": [
       "<div>\n",
       "<style scoped>\n",
       "    .dataframe tbody tr th:only-of-type {\n",
       "        vertical-align: middle;\n",
       "    }\n",
       "\n",
       "    .dataframe tbody tr th {\n",
       "        vertical-align: top;\n",
       "    }\n",
       "\n",
       "    .dataframe thead th {\n",
       "        text-align: right;\n",
       "    }\n",
       "</style>\n",
       "<table border=\"1\" class=\"dataframe\">\n",
       "  <thead>\n",
       "    <tr style=\"text-align: right;\">\n",
       "      <th></th>\n",
       "      <th>County &amp; State</th>\n",
       "      <th>1/31/2000</th>\n",
       "      <th>2/29/2000</th>\n",
       "      <th>3/31/2000</th>\n",
       "      <th>4/30/2000</th>\n",
       "      <th>5/31/2000</th>\n",
       "      <th>6/30/2000</th>\n",
       "      <th>7/31/2000</th>\n",
       "      <th>8/31/2000</th>\n",
       "      <th>9/30/2000</th>\n",
       "      <th>...</th>\n",
       "      <th>5/31/2023</th>\n",
       "      <th>6/30/2023</th>\n",
       "      <th>7/31/2023</th>\n",
       "      <th>8/31/2023</th>\n",
       "      <th>9/30/2023</th>\n",
       "      <th>10/31/2023</th>\n",
       "      <th>11/30/2023</th>\n",
       "      <th>12/31/2023</th>\n",
       "      <th>1/31/2024</th>\n",
       "      <th>2/29/2024</th>\n",
       "    </tr>\n",
       "  </thead>\n",
       "  <tbody>\n",
       "    <tr>\n",
       "      <th>0</th>\n",
       "      <td>Los Angeles County, CA</td>\n",
       "      <td>218109.6614</td>\n",
       "      <td>218351.9636</td>\n",
       "      <td>219253.9924</td>\n",
       "      <td>221034.2609</td>\n",
       "      <td>223301.9647</td>\n",
       "      <td>225478.4711</td>\n",
       "      <td>227678.6538</td>\n",
       "      <td>229942.9407</td>\n",
       "      <td>232027.3310</td>\n",
       "      <td>...</td>\n",
       "      <td>840773.8285</td>\n",
       "      <td>847854.1806</td>\n",
       "      <td>859394.2974</td>\n",
       "      <td>873560.9233</td>\n",
       "      <td>887641.7893</td>\n",
       "      <td>899129.9503</td>\n",
       "      <td>907716.4206</td>\n",
       "      <td>913122.6128</td>\n",
       "      <td>911973.7283</td>\n",
       "      <td>906790.4414</td>\n",
       "    </tr>\n",
       "    <tr>\n",
       "      <th>1</th>\n",
       "      <td>Cook County, IL</td>\n",
       "      <td>147964.6629</td>\n",
       "      <td>147921.7372</td>\n",
       "      <td>148148.3663</td>\n",
       "      <td>148818.4676</td>\n",
       "      <td>149663.9906</td>\n",
       "      <td>150546.8177</td>\n",
       "      <td>151356.5574</td>\n",
       "      <td>152568.0603</td>\n",
       "      <td>153990.8260</td>\n",
       "      <td>...</td>\n",
       "      <td>296293.3034</td>\n",
       "      <td>298020.2147</td>\n",
       "      <td>299950.9762</td>\n",
       "      <td>302194.0149</td>\n",
       "      <td>303945.6241</td>\n",
       "      <td>305305.3397</td>\n",
       "      <td>306242.5782</td>\n",
       "      <td>306888.8415</td>\n",
       "      <td>307391.7031</td>\n",
       "      <td>308718.4049</td>\n",
       "    </tr>\n",
       "    <tr>\n",
       "      <th>2</th>\n",
       "      <td>Harris County, TX</td>\n",
       "      <td>111394.1238</td>\n",
       "      <td>111358.8246</td>\n",
       "      <td>111187.7213</td>\n",
       "      <td>111118.3715</td>\n",
       "      <td>111092.1685</td>\n",
       "      <td>111286.1650</td>\n",
       "      <td>111488.0642</td>\n",
       "      <td>111789.0796</td>\n",
       "      <td>112181.9393</td>\n",
       "      <td>...</td>\n",
       "      <td>282318.3407</td>\n",
       "      <td>282960.6208</td>\n",
       "      <td>283744.4065</td>\n",
       "      <td>284559.2247</td>\n",
       "      <td>284896.4113</td>\n",
       "      <td>284939.7274</td>\n",
       "      <td>284693.0418</td>\n",
       "      <td>284411.8285</td>\n",
       "      <td>284527.6504</td>\n",
       "      <td>285006.6967</td>\n",
       "    </tr>\n",
       "    <tr>\n",
       "      <th>3</th>\n",
       "      <td>Maricopa County, AZ</td>\n",
       "      <td>147041.8392</td>\n",
       "      <td>147345.9207</td>\n",
       "      <td>147742.5134</td>\n",
       "      <td>148554.3669</td>\n",
       "      <td>149447.9413</td>\n",
       "      <td>150211.1292</td>\n",
       "      <td>150977.1668</td>\n",
       "      <td>151693.8225</td>\n",
       "      <td>152498.5159</td>\n",
       "      <td>...</td>\n",
       "      <td>461229.5436</td>\n",
       "      <td>463373.7563</td>\n",
       "      <td>466262.6341</td>\n",
       "      <td>469321.6095</td>\n",
       "      <td>471862.4581</td>\n",
       "      <td>474104.4184</td>\n",
       "      <td>475939.2821</td>\n",
       "      <td>476935.5727</td>\n",
       "      <td>477297.3014</td>\n",
       "      <td>477869.9382</td>\n",
       "    </tr>\n",
       "    <tr>\n",
       "      <th>4</th>\n",
       "      <td>San Diego County, CA</td>\n",
       "      <td>230036.4263</td>\n",
       "      <td>230951.6382</td>\n",
       "      <td>232047.8538</td>\n",
       "      <td>234522.8778</td>\n",
       "      <td>237169.8082</td>\n",
       "      <td>240508.5797</td>\n",
       "      <td>244335.7027</td>\n",
       "      <td>248525.5830</td>\n",
       "      <td>252462.3305</td>\n",
       "      <td>...</td>\n",
       "      <td>903768.2136</td>\n",
       "      <td>914304.4490</td>\n",
       "      <td>926825.9847</td>\n",
       "      <td>939717.6219</td>\n",
       "      <td>952202.7165</td>\n",
       "      <td>962435.9478</td>\n",
       "      <td>969407.6635</td>\n",
       "      <td>973071.9064</td>\n",
       "      <td>975520.7101</td>\n",
       "      <td>980746.2117</td>\n",
       "    </tr>\n",
       "  </tbody>\n",
       "</table>\n",
       "<p>5 rows × 291 columns</p>\n",
       "</div>"
      ],
      "text/plain": [
       "           County & State    1/31/2000    2/29/2000    3/31/2000    4/30/2000  \\\n",
       "0  Los Angeles County, CA  218109.6614  218351.9636  219253.9924  221034.2609   \n",
       "1         Cook County, IL  147964.6629  147921.7372  148148.3663  148818.4676   \n",
       "2       Harris County, TX  111394.1238  111358.8246  111187.7213  111118.3715   \n",
       "3     Maricopa County, AZ  147041.8392  147345.9207  147742.5134  148554.3669   \n",
       "4    San Diego County, CA  230036.4263  230951.6382  232047.8538  234522.8778   \n",
       "\n",
       "     5/31/2000    6/30/2000    7/31/2000    8/31/2000    9/30/2000  ...  \\\n",
       "0  223301.9647  225478.4711  227678.6538  229942.9407  232027.3310  ...   \n",
       "1  149663.9906  150546.8177  151356.5574  152568.0603  153990.8260  ...   \n",
       "2  111092.1685  111286.1650  111488.0642  111789.0796  112181.9393  ...   \n",
       "3  149447.9413  150211.1292  150977.1668  151693.8225  152498.5159  ...   \n",
       "4  237169.8082  240508.5797  244335.7027  248525.5830  252462.3305  ...   \n",
       "\n",
       "     5/31/2023    6/30/2023    7/31/2023    8/31/2023    9/30/2023  \\\n",
       "0  840773.8285  847854.1806  859394.2974  873560.9233  887641.7893   \n",
       "1  296293.3034  298020.2147  299950.9762  302194.0149  303945.6241   \n",
       "2  282318.3407  282960.6208  283744.4065  284559.2247  284896.4113   \n",
       "3  461229.5436  463373.7563  466262.6341  469321.6095  471862.4581   \n",
       "4  903768.2136  914304.4490  926825.9847  939717.6219  952202.7165   \n",
       "\n",
       "    10/31/2023   11/30/2023   12/31/2023    1/31/2024    2/29/2024  \n",
       "0  899129.9503  907716.4206  913122.6128  911973.7283  906790.4414  \n",
       "1  305305.3397  306242.5782  306888.8415  307391.7031  308718.4049  \n",
       "2  284939.7274  284693.0418  284411.8285  284527.6504  285006.6967  \n",
       "3  474104.4184  475939.2821  476935.5727  477297.3014  477869.9382  \n",
       "4  962435.9478  969407.6635  973071.9064  975520.7101  980746.2117  \n",
       "\n",
       "[5 rows x 291 columns]"
      ]
     },
     "execution_count": 2,
     "metadata": {},
     "output_type": "execute_result"
    }
   ],
   "source": [
    "# Load the dataset\n",
    "file_path = 'County_zhvi_uc_sfr_tier_0.33_0.67_sm_sa_month_v2.csv'\n",
    "data = pd.read_csv(file_path)\n",
    "\n",
    "# Displaying the first few rows of the dataset to understand its structure\n",
    "data.head()"
   ]
  },
  {
   "cell_type": "markdown",
   "id": "8cc4d841-d3ba-44f9-89ff-f7ee6e584c35",
   "metadata": {},
   "source": [
    "## Process and Transform Data"
   ]
  },
  {
   "cell_type": "markdown",
   "id": "d9c4013c-c526-4d14-b53a-dccfd5a75c37",
   "metadata": {},
   "source": [
    "*Transform the data from wide to a long format using the melt function so that each row represent an individual observation in the time series data*"
   ]
  },
  {
   "cell_type": "code",
   "execution_count": 3,
   "id": "e7b9ca91-5ea6-42fe-b6b3-fd27126e2528",
   "metadata": {},
   "outputs": [],
   "source": [
    "data_long = data.melt(id_vars=['County & State'], var_name='Date', value_name='MedianHousePrice')"
   ]
  },
  {
   "cell_type": "code",
   "execution_count": 4,
   "id": "f3122c00-9982-4fa3-a87c-c1787f2ba24d",
   "metadata": {},
   "outputs": [
    {
     "data": {
      "text/html": [
       "<div>\n",
       "<style scoped>\n",
       "    .dataframe tbody tr th:only-of-type {\n",
       "        vertical-align: middle;\n",
       "    }\n",
       "\n",
       "    .dataframe tbody tr th {\n",
       "        vertical-align: top;\n",
       "    }\n",
       "\n",
       "    .dataframe thead th {\n",
       "        text-align: right;\n",
       "    }\n",
       "</style>\n",
       "<table border=\"1\" class=\"dataframe\">\n",
       "  <thead>\n",
       "    <tr style=\"text-align: right;\">\n",
       "      <th></th>\n",
       "      <th>County &amp; State</th>\n",
       "      <th>Date</th>\n",
       "      <th>MedianHousePrice</th>\n",
       "    </tr>\n",
       "  </thead>\n",
       "  <tbody>\n",
       "    <tr>\n",
       "      <th>0</th>\n",
       "      <td>Los Angeles County, CA</td>\n",
       "      <td>1/31/2000</td>\n",
       "      <td>218109.6614</td>\n",
       "    </tr>\n",
       "    <tr>\n",
       "      <th>1</th>\n",
       "      <td>Cook County, IL</td>\n",
       "      <td>1/31/2000</td>\n",
       "      <td>147964.6629</td>\n",
       "    </tr>\n",
       "    <tr>\n",
       "      <th>2</th>\n",
       "      <td>Harris County, TX</td>\n",
       "      <td>1/31/2000</td>\n",
       "      <td>111394.1238</td>\n",
       "    </tr>\n",
       "    <tr>\n",
       "      <th>3</th>\n",
       "      <td>Maricopa County, AZ</td>\n",
       "      <td>1/31/2000</td>\n",
       "      <td>147041.8392</td>\n",
       "    </tr>\n",
       "    <tr>\n",
       "      <th>4</th>\n",
       "      <td>San Diego County, CA</td>\n",
       "      <td>1/31/2000</td>\n",
       "      <td>230036.4263</td>\n",
       "    </tr>\n",
       "  </tbody>\n",
       "</table>\n",
       "</div>"
      ],
      "text/plain": [
       "           County & State       Date  MedianHousePrice\n",
       "0  Los Angeles County, CA  1/31/2000       218109.6614\n",
       "1         Cook County, IL  1/31/2000       147964.6629\n",
       "2       Harris County, TX  1/31/2000       111394.1238\n",
       "3     Maricopa County, AZ  1/31/2000       147041.8392\n",
       "4    San Diego County, CA  1/31/2000       230036.4263"
      ]
     },
     "execution_count": 4,
     "metadata": {},
     "output_type": "execute_result"
    }
   ],
   "source": [
    "data_long.head()"
   ]
  },
  {
   "cell_type": "markdown",
   "id": "fae91dd5-d5c1-4dd4-a9ae-456ab5d9dddb",
   "metadata": {},
   "source": [
    "*Convert the **Date** column to a datetime type*"
   ]
  },
  {
   "cell_type": "code",
   "execution_count": 5,
   "id": "34f406d8-bf2b-4d6d-bca5-a9e9ddb99460",
   "metadata": {},
   "outputs": [],
   "source": [
    "data_long['Date'] = pd.to_datetime(data_long['Date'], format='%m/%d/%Y')"
   ]
  },
  {
   "cell_type": "markdown",
   "id": "51091c21-b73f-47dd-a9d2-73b80463be2d",
   "metadata": {},
   "source": [
    "*Split County & State feature into two feature columns*"
   ]
  },
  {
   "cell_type": "code",
   "execution_count": 6,
   "id": "124aa309-0db3-400d-8adb-4aa228e9d9c5",
   "metadata": {},
   "outputs": [],
   "source": [
    "data_long[['County', 'State']] = data_long['County & State'].str.split(', ', expand=True)"
   ]
  },
  {
   "cell_type": "code",
   "execution_count": 7,
   "id": "d01d3e05-d02b-443c-89a5-13c9c9b3bb87",
   "metadata": {},
   "outputs": [
    {
     "data": {
      "text/html": [
       "<div>\n",
       "<style scoped>\n",
       "    .dataframe tbody tr th:only-of-type {\n",
       "        vertical-align: middle;\n",
       "    }\n",
       "\n",
       "    .dataframe tbody tr th {\n",
       "        vertical-align: top;\n",
       "    }\n",
       "\n",
       "    .dataframe thead th {\n",
       "        text-align: right;\n",
       "    }\n",
       "</style>\n",
       "<table border=\"1\" class=\"dataframe\">\n",
       "  <thead>\n",
       "    <tr style=\"text-align: right;\">\n",
       "      <th></th>\n",
       "      <th>County &amp; State</th>\n",
       "      <th>Date</th>\n",
       "      <th>MedianHousePrice</th>\n",
       "      <th>County</th>\n",
       "      <th>State</th>\n",
       "    </tr>\n",
       "  </thead>\n",
       "  <tbody>\n",
       "    <tr>\n",
       "      <th>0</th>\n",
       "      <td>Los Angeles County, CA</td>\n",
       "      <td>2000-01-31</td>\n",
       "      <td>218109.6614</td>\n",
       "      <td>Los Angeles County</td>\n",
       "      <td>CA</td>\n",
       "    </tr>\n",
       "    <tr>\n",
       "      <th>1</th>\n",
       "      <td>Cook County, IL</td>\n",
       "      <td>2000-01-31</td>\n",
       "      <td>147964.6629</td>\n",
       "      <td>Cook County</td>\n",
       "      <td>IL</td>\n",
       "    </tr>\n",
       "    <tr>\n",
       "      <th>2</th>\n",
       "      <td>Harris County, TX</td>\n",
       "      <td>2000-01-31</td>\n",
       "      <td>111394.1238</td>\n",
       "      <td>Harris County</td>\n",
       "      <td>TX</td>\n",
       "    </tr>\n",
       "    <tr>\n",
       "      <th>3</th>\n",
       "      <td>Maricopa County, AZ</td>\n",
       "      <td>2000-01-31</td>\n",
       "      <td>147041.8392</td>\n",
       "      <td>Maricopa County</td>\n",
       "      <td>AZ</td>\n",
       "    </tr>\n",
       "    <tr>\n",
       "      <th>4</th>\n",
       "      <td>San Diego County, CA</td>\n",
       "      <td>2000-01-31</td>\n",
       "      <td>230036.4263</td>\n",
       "      <td>San Diego County</td>\n",
       "      <td>CA</td>\n",
       "    </tr>\n",
       "  </tbody>\n",
       "</table>\n",
       "</div>"
      ],
      "text/plain": [
       "           County & State       Date  MedianHousePrice              County  \\\n",
       "0  Los Angeles County, CA 2000-01-31       218109.6614  Los Angeles County   \n",
       "1         Cook County, IL 2000-01-31       147964.6629         Cook County   \n",
       "2       Harris County, TX 2000-01-31       111394.1238       Harris County   \n",
       "3     Maricopa County, AZ 2000-01-31       147041.8392     Maricopa County   \n",
       "4    San Diego County, CA 2000-01-31       230036.4263    San Diego County   \n",
       "\n",
       "  State  \n",
       "0    CA  \n",
       "1    IL  \n",
       "2    TX  \n",
       "3    AZ  \n",
       "4    CA  "
      ]
     },
     "execution_count": 7,
     "metadata": {},
     "output_type": "execute_result"
    }
   ],
   "source": [
    "data_long.head()"
   ]
  },
  {
   "cell_type": "markdown",
   "id": "aab0f25d-e07e-4e55-8f18-aef73adaed1f",
   "metadata": {},
   "source": [
    "*Drop the original County & State feature column*"
   ]
  },
  {
   "cell_type": "code",
   "execution_count": 8,
   "id": "3b63c1bd-a205-4af3-911e-c7d673ef115d",
   "metadata": {},
   "outputs": [],
   "source": [
    "data_long = data_long.drop('County & State', axis=1)"
   ]
  },
  {
   "cell_type": "code",
   "execution_count": 9,
   "id": "e13c84ff-79fd-4dbe-b390-b721ec185b2d",
   "metadata": {},
   "outputs": [
    {
     "data": {
      "text/html": [
       "<div>\n",
       "<style scoped>\n",
       "    .dataframe tbody tr th:only-of-type {\n",
       "        vertical-align: middle;\n",
       "    }\n",
       "\n",
       "    .dataframe tbody tr th {\n",
       "        vertical-align: top;\n",
       "    }\n",
       "\n",
       "    .dataframe thead th {\n",
       "        text-align: right;\n",
       "    }\n",
       "</style>\n",
       "<table border=\"1\" class=\"dataframe\">\n",
       "  <thead>\n",
       "    <tr style=\"text-align: right;\">\n",
       "      <th></th>\n",
       "      <th>Date</th>\n",
       "      <th>MedianHousePrice</th>\n",
       "      <th>County</th>\n",
       "      <th>State</th>\n",
       "    </tr>\n",
       "  </thead>\n",
       "  <tbody>\n",
       "    <tr>\n",
       "      <th>0</th>\n",
       "      <td>2000-01-31</td>\n",
       "      <td>218109.6614</td>\n",
       "      <td>Los Angeles County</td>\n",
       "      <td>CA</td>\n",
       "    </tr>\n",
       "    <tr>\n",
       "      <th>1</th>\n",
       "      <td>2000-01-31</td>\n",
       "      <td>147964.6629</td>\n",
       "      <td>Cook County</td>\n",
       "      <td>IL</td>\n",
       "    </tr>\n",
       "    <tr>\n",
       "      <th>2</th>\n",
       "      <td>2000-01-31</td>\n",
       "      <td>111394.1238</td>\n",
       "      <td>Harris County</td>\n",
       "      <td>TX</td>\n",
       "    </tr>\n",
       "    <tr>\n",
       "      <th>3</th>\n",
       "      <td>2000-01-31</td>\n",
       "      <td>147041.8392</td>\n",
       "      <td>Maricopa County</td>\n",
       "      <td>AZ</td>\n",
       "    </tr>\n",
       "    <tr>\n",
       "      <th>4</th>\n",
       "      <td>2000-01-31</td>\n",
       "      <td>230036.4263</td>\n",
       "      <td>San Diego County</td>\n",
       "      <td>CA</td>\n",
       "    </tr>\n",
       "  </tbody>\n",
       "</table>\n",
       "</div>"
      ],
      "text/plain": [
       "        Date  MedianHousePrice              County State\n",
       "0 2000-01-31       218109.6614  Los Angeles County    CA\n",
       "1 2000-01-31       147964.6629         Cook County    IL\n",
       "2 2000-01-31       111394.1238       Harris County    TX\n",
       "3 2000-01-31       147041.8392     Maricopa County    AZ\n",
       "4 2000-01-31       230036.4263    San Diego County    CA"
      ]
     },
     "execution_count": 9,
     "metadata": {},
     "output_type": "execute_result"
    }
   ],
   "source": [
    "data_long.head()"
   ]
  },
  {
   "cell_type": "markdown",
   "id": "519f7d2d-dced-4f51-84df-ba081869117c",
   "metadata": {},
   "source": [
    "__Check for missing values in the MedianHousePrice colum__"
   ]
  },
  {
   "cell_type": "code",
   "execution_count": 10,
   "id": "a62cc543-dd70-43b3-956d-c95d1cfab410",
   "metadata": {},
   "outputs": [
    {
     "data": {
      "text/plain": [
       "(274895, 30.81644320882472)"
      ]
     },
     "execution_count": 10,
     "metadata": {},
     "output_type": "execute_result"
    }
   ],
   "source": [
    "missing_values = data_long['MedianHousePrice'].isnull().sum()\n",
    "total_values = len(data_long['MedianHousePrice'])\n",
    "missing_percentage = (missing_values / total_values) * 100\n",
    "missing_values, missing_percentage"
   ]
  },
  {
   "cell_type": "markdown",
   "id": "d4ea03d5-2907-4c38-8091-bcbfebb73641",
   "metadata": {},
   "source": [
    "*Function to apply a 5.3% deflation rate to back fill in missing MedianHousePrice value in time series data*"
   ]
  },
  {
   "cell_type": "code",
   "execution_count": 11,
   "id": "b7778ec5-e98c-4d2b-9918-baa2bbf5719a",
   "metadata": {},
   "outputs": [
    {
     "data": {
      "text/html": [
       "<div>\n",
       "<style scoped>\n",
       "    .dataframe tbody tr th:only-of-type {\n",
       "        vertical-align: middle;\n",
       "    }\n",
       "\n",
       "    .dataframe tbody tr th {\n",
       "        vertical-align: top;\n",
       "    }\n",
       "\n",
       "    .dataframe thead th {\n",
       "        text-align: right;\n",
       "    }\n",
       "</style>\n",
       "<table border=\"1\" class=\"dataframe\">\n",
       "  <thead>\n",
       "    <tr style=\"text-align: right;\">\n",
       "      <th></th>\n",
       "      <th>Date</th>\n",
       "      <th>MedianHousePrice</th>\n",
       "      <th>County</th>\n",
       "      <th>State</th>\n",
       "    </tr>\n",
       "  </thead>\n",
       "  <tbody>\n",
       "    <tr>\n",
       "      <th>0</th>\n",
       "      <td>2000-01-31</td>\n",
       "      <td>218109.6614</td>\n",
       "      <td>Los Angeles County</td>\n",
       "      <td>CA</td>\n",
       "    </tr>\n",
       "    <tr>\n",
       "      <th>4</th>\n",
       "      <td>2000-01-31</td>\n",
       "      <td>230036.4263</td>\n",
       "      <td>San Diego County</td>\n",
       "      <td>CA</td>\n",
       "    </tr>\n",
       "    <tr>\n",
       "      <th>5</th>\n",
       "      <td>2000-01-31</td>\n",
       "      <td>277067.9505</td>\n",
       "      <td>Orange County</td>\n",
       "      <td>CA</td>\n",
       "    </tr>\n",
       "    <tr>\n",
       "      <th>6</th>\n",
       "      <td>2000-01-31</td>\n",
       "      <td>212436.6870</td>\n",
       "      <td>Kings County</td>\n",
       "      <td>NY</td>\n",
       "    </tr>\n",
       "    <tr>\n",
       "      <th>7</th>\n",
       "      <td>2000-01-31</td>\n",
       "      <td>127448.7814</td>\n",
       "      <td>Miami-Dade County</td>\n",
       "      <td>FL</td>\n",
       "    </tr>\n",
       "  </tbody>\n",
       "</table>\n",
       "</div>"
      ],
      "text/plain": [
       "        Date  MedianHousePrice              County State\n",
       "0 2000-01-31       218109.6614  Los Angeles County    CA\n",
       "4 2000-01-31       230036.4263    San Diego County    CA\n",
       "5 2000-01-31       277067.9505       Orange County    CA\n",
       "6 2000-01-31       212436.6870        Kings County    NY\n",
       "7 2000-01-31       127448.7814   Miami-Dade County    FL"
      ]
     },
     "execution_count": 11,
     "metadata": {},
     "output_type": "execute_result"
    }
   ],
   "source": [
    "def apply_deflation(data, deflation_rate=0.053):\n",
    "    \"\"\"\n",
    "    Apply deflation to fill in missing values in the time series data.\n",
    "    We work backwards using a deflation factor.\n",
    "\n",
    "    :param data: DataFrame with Date, MedianHousePrice columns\n",
    "    :param deflation_rate: Deflation rate to be applied\n",
    "    :return: DataFrame with imputed values\n",
    "    \"\"\"\n",
    "    # Sorting the data in reverse chronological order for backward filling\n",
    "    data = data.sort_values(by='Date', ascending=False)\n",
    "\n",
    "    # Iterate through the DataFrame\n",
    "    for i in range(1, len(data)):\n",
    "        # If current value is missing and the previous value is present\n",
    "        if pd.isna(data.iloc[i]['MedianHousePrice']) and not pd.isna(data.iloc[i - 1]['MedianHousePrice']):\n",
    "            # Calculate the number of months between the dates\n",
    "            months_diff = (data.iloc[i - 1]['Date'].year - data.iloc[i]['Date'].year) * 12 + \\\n",
    "                          data.iloc[i - 1]['Date'].month - data.iloc[i]['Date'].month\n",
    "\n",
    "            # Apply deflation formula\n",
    "            estimated_price = data.iloc[i - 1]['MedianHousePrice'] / ((1 + deflation_rate) ** months_diff)\n",
    "            data.at[i, 'MedianHousePrice'] = estimated_price\n",
    "\n",
    "    # Sorting the data back to its original chronological order\n",
    "    data = data.sort_values(by='Date', ascending=True)\n",
    "    return data\n",
    "\n",
    "# Apply the deflation function to the data\n",
    "data_deflated = apply_deflation(data_long)\n",
    "\n",
    "# Display the first few rows to verify the changes\n",
    "data_deflated.head()\n"
   ]
  },
  {
   "cell_type": "markdown",
   "id": "901469df-1289-4093-b4cc-6536bac36c7f",
   "metadata": {},
   "source": [
    "__Check for missing values in the MedianHousePrice colum__"
   ]
  },
  {
   "cell_type": "code",
   "execution_count": 12,
   "id": "accbe762-4914-450b-ac84-7ed48d7ca616",
   "metadata": {},
   "outputs": [
    {
     "data": {
      "text/plain": [
       "(255918, 28.689072238913056)"
      ]
     },
     "execution_count": 12,
     "metadata": {},
     "output_type": "execute_result"
    }
   ],
   "source": [
    "missing_values = data_deflated['MedianHousePrice'].isnull().sum()\n",
    "total_values = len(data_deflated['MedianHousePrice'])\n",
    "missing_percentage = (missing_values / total_values) * 100\n",
    "missing_values, missing_percentage"
   ]
  },
  {
   "cell_type": "markdown",
   "id": "0665c18a-5349-4db3-a3f9-2ba8fbfe90db",
   "metadata": {},
   "source": [
    "*Function to apply a 5.3% deflation rate to forward fill in missing MedianHousePrice value in time series data*"
   ]
  },
  {
   "cell_type": "code",
   "execution_count": 13,
   "id": "b72929f1-70af-4aa9-8add-363e16e63678",
   "metadata": {},
   "outputs": [],
   "source": [
    "def apply_inflation(data, inflation_rate=0.053):\n",
    "    \"\"\"\n",
    "    Apply inflation to fill in missing values in the time series data.\n",
    "    We work forward using an inflation factor.\n",
    "\n",
    "    :param data: DataFrame with Date, MedianHousePrice columns\n",
    "    :param inflation_rate: Inflation rate to be applied\n",
    "    :return: DataFrame with imputed values\n",
    "    \"\"\"\n",
    "    # Sorting the data in chronological order for forward filling\n",
    "    data = data.sort_values(by='Date', ascending=True)\n",
    "\n",
    "    # Iterate through the DataFrame\n",
    "    for i in range(len(data) - 1):\n",
    "        # If current value is missing and the previous value is present\n",
    "        if pd.isna(data.iloc[i]['MedianHousePrice']) and not pd.isna(data.iloc[i + 1]['MedianHousePrice']):\n",
    "            # Calculate the number of months between the dates\n",
    "            months_diff = (data.iloc[i + 1]['Date'].year - data.iloc[i]['Date'].year) * 12 + \\\n",
    "                          data.iloc[i + 1]['Date'].month - data.iloc[i]['Date'].month\n",
    "\n",
    "            # Apply inflation formula\n",
    "            estimated_price = data.iloc[i + 1]['MedianHousePrice'] * ((1 + inflation_rate) ** months_diff)\n",
    "            data.at[i, 'MedianHousePrice'] = estimated_price\n",
    "\n",
    "    return data\n",
    "\n",
    "# Apply the inflation function to the data\n",
    "data_inflated = apply_inflation(data_deflated)"
   ]
  },
  {
   "cell_type": "markdown",
   "id": "ca7116b7-5920-4982-b037-8f242482e818",
   "metadata": {},
   "source": [
    "__Check for missing values in the MedianHousePrice colum__"
   ]
  },
  {
   "cell_type": "code",
   "execution_count": 14,
   "id": "8887e486-be69-4daa-860d-5b37fe2cc077",
   "metadata": {},
   "outputs": [
    {
     "data": {
      "text/plain": [
       "(214618, 24.059235011882876)"
      ]
     },
     "execution_count": 14,
     "metadata": {},
     "output_type": "execute_result"
    }
   ],
   "source": [
    "# Check for missing values again after applying inflation\n",
    "missing_values_after_inflation = data_inflated['MedianHousePrice'].isnull().sum()\n",
    "total_values = len(data_inflated['MedianHousePrice'])\n",
    "missing_percentage_after_inflation = (missing_values_after_inflation / total_values) * 100\n",
    "\n",
    "missing_values_after_inflation, missing_percentage_after_inflation"
   ]
  },
  {
   "cell_type": "markdown",
   "id": "02e509c8-c226-4894-be4a-45c1d58bf755",
   "metadata": {},
   "source": [
    "__Exclude missing values from dataset__"
   ]
  },
  {
   "cell_type": "markdown",
   "id": "b632c5e0-15b5-4727-987c-a47002ecdea5",
   "metadata": {},
   "source": [
    "*Group data by Date, County, and State and calculate missing data percentage*"
   ]
  },
  {
   "cell_type": "code",
   "execution_count": 15,
   "id": "51fc203d-2872-4ebd-a847-c86de7e4391c",
   "metadata": {},
   "outputs": [],
   "source": [
    "grouped_data = data_inflated.groupby(['Date', 'County', 'State']).agg(Total=('MedianHousePrice', 'count'), Missing=('MedianHousePrice', 'sum'))\n",
    "grouped_data['Missing_Percentage'] = (grouped_data['Missing'] / grouped_data['Total']) * 100"
   ]
  },
  {
   "cell_type": "markdown",
   "id": "a77c0af9-e953-49e0-a1ec-18750a68f237",
   "metadata": {},
   "source": [
    "*Identify highly imcomplete segements*"
   ]
  },
  {
   "cell_type": "code",
   "execution_count": 16,
   "id": "6b06d776-a312-448e-9c1d-0c3872a389a3",
   "metadata": {},
   "outputs": [],
   "source": [
    "threshold = 0.01 # threshold percentage\n",
    "incomplete_segments = grouped_data[grouped_data['Missing_Percentage'] > threshold]"
   ]
  },
  {
   "cell_type": "markdown",
   "id": "d9363cc7-9cd1-413f-8b3b-b5ff5aa71a9d",
   "metadata": {},
   "source": [
    "*Identify dates and regions to exclued*"
   ]
  },
  {
   "cell_type": "code",
   "execution_count": 17,
   "id": "beca1622-2e20-47f5-993c-acb3f0e93795",
   "metadata": {},
   "outputs": [],
   "source": [
    "dates_to_exclude = incomplete_segments.index.get_level_values('Date').unique()\n",
    "counties_to_exclude = incomplete_segments.index.get_level_values('County').unique()\n",
    "states_to_exclude = incomplete_segments.index.get_level_values('State').unique()"
   ]
  },
  {
   "cell_type": "markdown",
   "id": "1c9140ed-8e3c-4f9d-a78c-4655aa863d1b",
   "metadata": {},
   "source": [
    "*Filter out the highly incomplete data*"
   ]
  },
  {
   "cell_type": "code",
   "execution_count": 18,
   "id": "15498a15-563b-4b24-8231-39ecd72c087b",
   "metadata": {},
   "outputs": [],
   "source": [
    "filtered_data = data_inflated[~((data_inflated['Date'].isin(dates_to_exclude)) &\n",
    "                               (data_inflated['County'].isin(counties_to_exclude)) &\n",
    "                               (data_inflated['State'].isin(states_to_exclude)))]"
   ]
  },
  {
   "cell_type": "markdown",
   "id": "9d66345b-52f5-4d12-8afc-67c6e4e847da",
   "metadata": {},
   "source": [
    "*Visulize data and check new shape*"
   ]
  },
  {
   "cell_type": "code",
   "execution_count": 19,
   "id": "94d9c5cc-cd9f-4c2f-8ad9-0dd4fad05c31",
   "metadata": {},
   "outputs": [
    {
     "data": {
      "text/plain": [
       "(0, 4)"
      ]
     },
     "execution_count": 19,
     "metadata": {},
     "output_type": "execute_result"
    }
   ],
   "source": [
    "filtered_data.shape"
   ]
  },
  {
   "cell_type": "markdown",
   "id": "ce46b12c-e31e-410f-998e-73a4c8fedc58",
   "metadata": {},
   "source": [
    "__Missing data cannot be excluded from dataset__\n",
    "* Instead linear interpolation will be used to fill in missing data points"
   ]
  },
  {
   "cell_type": "code",
   "execution_count": 20,
   "id": "4194a837-99f9-4f8a-ab36-834e8df1e93d",
   "metadata": {},
   "outputs": [],
   "source": [
    "data_inflated_sorted = data_inflated.sort_values(by='Date') # Sort dataset by date"
   ]
  },
  {
   "cell_type": "markdown",
   "id": "0b5ec070-50b6-4d25-b7c1-9928ec9771af",
   "metadata": {},
   "source": [
    "*Set Date feature column as the index of the DataFrame*"
   ]
  },
  {
   "cell_type": "code",
   "execution_count": 21,
   "id": "fbc327eb-9698-4352-a47b-a39447acb1f3",
   "metadata": {},
   "outputs": [],
   "source": [
    "data_inflated_sorted.set_index('Date', inplace=True)"
   ]
  },
  {
   "cell_type": "markdown",
   "id": "8fb90ea5-950a-4c96-9681-c0029bd13684",
   "metadata": {},
   "source": [
    "*Isolate the MedianHousePrice feature column for interpolation*"
   ]
  },
  {
   "cell_type": "code",
   "execution_count": 22,
   "id": "1a32d219-20de-4754-8e47-c5ad03301c36",
   "metadata": {},
   "outputs": [],
   "source": [
    "median_house_price = data_inflated_sorted['MedianHousePrice']"
   ]
  },
  {
   "cell_type": "markdown",
   "id": "b8817bfb-c27c-469e-90b5-0c39691a4902",
   "metadata": {},
   "source": [
    "*Apply linear Interpolation*"
   ]
  },
  {
   "cell_type": "code",
   "execution_count": 23,
   "id": "d6c93b71-9610-44b2-831d-9b408c49faaf",
   "metadata": {},
   "outputs": [],
   "source": [
    "interpolated_values = median_house_price.interpolate(method='linear')"
   ]
  },
  {
   "cell_type": "markdown",
   "id": "f63e7d25-c3ac-446a-8b8a-ee0a7d55e643",
   "metadata": {},
   "source": [
    "*Merge the interpolated values back into the orignial DataFrame*"
   ]
  },
  {
   "cell_type": "code",
   "execution_count": 24,
   "id": "7a115970-6236-4d50-ae1a-9e0b82e326d5",
   "metadata": {},
   "outputs": [],
   "source": [
    "data_inflated_sorted['MedianHousePrice'] = interpolated_values"
   ]
  },
  {
   "cell_type": "markdown",
   "id": "c1a4e799-d5c1-47c6-bd8a-e4cf1914d693",
   "metadata": {},
   "source": [
    "*Reset the index*"
   ]
  },
  {
   "cell_type": "code",
   "execution_count": 25,
   "id": "ea981155-015e-436a-befd-053a3bf88d98",
   "metadata": {},
   "outputs": [],
   "source": [
    "data_interpolated = data_inflated_sorted.reset_index()"
   ]
  },
  {
   "cell_type": "markdown",
   "id": "2d537d89-a25d-4155-989f-b3250e0c8526",
   "metadata": {},
   "source": [
    "*Check for remaining missing values*"
   ]
  },
  {
   "cell_type": "code",
   "execution_count": 26,
   "id": "a5e7fabf-058e-451a-a4fb-bc2fae3026e4",
   "metadata": {},
   "outputs": [
    {
     "data": {
      "text/plain": [
       "(0, 0.0)"
      ]
     },
     "execution_count": 26,
     "metadata": {},
     "output_type": "execute_result"
    }
   ],
   "source": [
    "remaining_missing_values = data_interpolated['MedianHousePrice'].isnull().sum()\n",
    "remaining_missing_percentage = (remaining_missing_values / len(data_interpolated)) * 100\n",
    "\n",
    "remaining_missing_values, remaining_missing_percentage"
   ]
  },
  {
   "cell_type": "markdown",
   "id": "23826e66-710e-4b93-b17f-19c7e49d4018",
   "metadata": {},
   "source": [
    "## Feature Engineering to enhance data for effective modeling"
   ]
  },
  {
   "cell_type": "markdown",
   "id": "81fe7ca7-a384-4cff-a2af-28ee04c8fd6c",
   "metadata": {},
   "source": [
    "__Extracting Year and Month__\n",
    "* This will help the models to understand and leverage seasonal trends and year-over-year changes in house prices"
   ]
  },
  {
   "cell_type": "code",
   "execution_count": 27,
   "id": "e9150253-9943-491a-8cb7-b0fac2fff4f6",
   "metadata": {},
   "outputs": [],
   "source": [
    "data_interpolated['Year'] = data_interpolated['Date'].dt.year # Extract Year from the Date column\n",
    "data_interpolated['Month'] = data_interpolated['Date'].dt.month # Extract Month from the Date column"
   ]
  },
  {
   "cell_type": "markdown",
   "id": "b6d9fedc-c641-4c18-94aa-edf1d7139182",
   "metadata": {},
   "source": [
    "__Creating Lagged Features__\n",
    "* Past values of variables, such as previous month's house price\n",
    "* These are informative in time series forecasting, as they allow models to learn from the historical trends"
   ]
  },
  {
   "cell_type": "code",
   "execution_count": 28,
   "id": "0cf576f1-96d7-4d56-ae1e-a43be07adbc0",
   "metadata": {},
   "outputs": [],
   "source": [
    "for lag in [1, 3, 6]:\n",
    "    data_interpolated[f'Lag_{lag}_Month'] = data_interpolated['MedianHousePrice'].shift(lag)"
   ]
  },
  {
   "cell_type": "markdown",
   "id": "39c6022a-2dac-497c-a93d-369f1758744f",
   "metadata": {},
   "source": [
    "__Drop missing values created by Lagging process__\n",
    "* Dropping rows with missing lagged values, since they are a small portion of dataset"
   ]
  },
  {
   "cell_type": "code",
   "execution_count": 29,
   "id": "1f580c98-bbe2-44cf-83a4-b7452555c7aa",
   "metadata": {},
   "outputs": [],
   "source": [
    "data_interpolated.dropna(subset=[f'Lag_{lag}_Month' for lag in [1, 3, 6]], inplace=True)"
   ]
  },
  {
   "cell_type": "code",
   "execution_count": 30,
   "id": "ad223af3-07ce-4bcf-ab8e-dfa884881078",
   "metadata": {},
   "outputs": [
    {
     "data": {
      "text/plain": [
       "(0, 0.0)"
      ]
     },
     "execution_count": 30,
     "metadata": {},
     "output_type": "execute_result"
    }
   ],
   "source": [
    "remaining_missing_values = data_interpolated['MedianHousePrice'].isnull().sum()\n",
    "remaining_missing_percentage = (remaining_missing_values / len(data_interpolated)) * 100\n",
    "\n",
    "remaining_missing_values, remaining_missing_percentage"
   ]
  },
  {
   "cell_type": "code",
   "execution_count": 31,
   "id": "4c53ca77-9e77-4851-bffa-3cc648587717",
   "metadata": {},
   "outputs": [
    {
     "data": {
      "text/html": [
       "<div>\n",
       "<style scoped>\n",
       "    .dataframe tbody tr th:only-of-type {\n",
       "        vertical-align: middle;\n",
       "    }\n",
       "\n",
       "    .dataframe tbody tr th {\n",
       "        vertical-align: top;\n",
       "    }\n",
       "\n",
       "    .dataframe thead th {\n",
       "        text-align: right;\n",
       "    }\n",
       "</style>\n",
       "<table border=\"1\" class=\"dataframe\">\n",
       "  <thead>\n",
       "    <tr style=\"text-align: right;\">\n",
       "      <th></th>\n",
       "      <th>Date</th>\n",
       "      <th>MedianHousePrice</th>\n",
       "      <th>County</th>\n",
       "      <th>State</th>\n",
       "      <th>Year</th>\n",
       "      <th>Month</th>\n",
       "      <th>Lag_1_Month</th>\n",
       "      <th>Lag_3_Month</th>\n",
       "      <th>Lag_6_Month</th>\n",
       "    </tr>\n",
       "  </thead>\n",
       "  <tbody>\n",
       "    <tr>\n",
       "      <th>6</th>\n",
       "      <td>2000-01-31</td>\n",
       "      <td>96184.65994</td>\n",
       "      <td>Dallas County</td>\n",
       "      <td>TX</td>\n",
       "      <td>2000</td>\n",
       "      <td>1</td>\n",
       "      <td>127448.78140</td>\n",
       "      <td>277067.95050</td>\n",
       "      <td>218109.66140</td>\n",
       "    </tr>\n",
       "    <tr>\n",
       "      <th>7</th>\n",
       "      <td>2000-01-31</td>\n",
       "      <td>57953.66333</td>\n",
       "      <td>Riverside County</td>\n",
       "      <td>CA</td>\n",
       "      <td>2000</td>\n",
       "      <td>1</td>\n",
       "      <td>96184.65994</td>\n",
       "      <td>239875.74880</td>\n",
       "      <td>49562.45471</td>\n",
       "    </tr>\n",
       "    <tr>\n",
       "      <th>8</th>\n",
       "      <td>2000-01-31</td>\n",
       "      <td>260395.51300</td>\n",
       "      <td>Queens County</td>\n",
       "      <td>NY</td>\n",
       "      <td>2000</td>\n",
       "      <td>1</td>\n",
       "      <td>57953.66333</td>\n",
       "      <td>127448.78140</td>\n",
       "      <td>230036.42630</td>\n",
       "    </tr>\n",
       "    <tr>\n",
       "      <th>9</th>\n",
       "      <td>2000-01-31</td>\n",
       "      <td>147179.80690</td>\n",
       "      <td>Sacramento County</td>\n",
       "      <td>CA</td>\n",
       "      <td>2000</td>\n",
       "      <td>1</td>\n",
       "      <td>260395.51300</td>\n",
       "      <td>96184.65994</td>\n",
       "      <td>277067.95050</td>\n",
       "    </tr>\n",
       "    <tr>\n",
       "      <th>10</th>\n",
       "      <td>2000-01-31</td>\n",
       "      <td>75407.69696</td>\n",
       "      <td>Davidson County</td>\n",
       "      <td>TN</td>\n",
       "      <td>2000</td>\n",
       "      <td>1</td>\n",
       "      <td>147179.80690</td>\n",
       "      <td>57953.66333</td>\n",
       "      <td>239875.74880</td>\n",
       "    </tr>\n",
       "  </tbody>\n",
       "</table>\n",
       "</div>"
      ],
      "text/plain": [
       "         Date  MedianHousePrice             County State  Year  Month  \\\n",
       "6  2000-01-31       96184.65994      Dallas County    TX  2000      1   \n",
       "7  2000-01-31       57953.66333   Riverside County    CA  2000      1   \n",
       "8  2000-01-31      260395.51300      Queens County    NY  2000      1   \n",
       "9  2000-01-31      147179.80690  Sacramento County    CA  2000      1   \n",
       "10 2000-01-31       75407.69696    Davidson County    TN  2000      1   \n",
       "\n",
       "     Lag_1_Month   Lag_3_Month   Lag_6_Month  \n",
       "6   127448.78140  277067.95050  218109.66140  \n",
       "7    96184.65994  239875.74880   49562.45471  \n",
       "8    57953.66333  127448.78140  230036.42630  \n",
       "9   260395.51300   96184.65994  277067.95050  \n",
       "10  147179.80690   57953.66333  239875.74880  "
      ]
     },
     "execution_count": 31,
     "metadata": {},
     "output_type": "execute_result"
    }
   ],
   "source": [
    "data_interpolated.head()"
   ]
  },
  {
   "cell_type": "markdown",
   "id": "248d5dfa-8100-4ddd-8205-783c5e57a1ff",
   "metadata": {},
   "source": [
    "## Exploratory Data Analysis\n",
    "\n",
    "* Visualize trends over time in median house prices\n",
    "* Look for seasonal patterns and variations in months"
   ]
  },
  {
   "cell_type": "code",
   "execution_count": 32,
   "id": "3f985287-ca99-430e-ad4a-1beefd5ee08d",
   "metadata": {},
   "outputs": [],
   "source": [
    "def plot_data_bqplot(df, title):\n",
    "    # Extract numerical columns for histogram\n",
    "    num_columns = df.select_dtypes(include=[np.number]).columns\n",
    "    figures = []\n",
    "    \n",
    "    # Create histograms for each numerical column\n",
    "    for col in num_columns:\n",
    "        hist, edges = np.histogram(df[col].dropna(), bins=25)\n",
    "        x_sc = LinearScale()\n",
    "        y_sc = LinearScale()\n",
    "        bar = Bars(x=edges[:-1], y=hist, scales={'x': x_sc, 'y': y_sc})\n",
    "        ax_x = Axis(scale=x_sc, label=col)\n",
    "        ax_y = Axis(scale=y_sc, orientation='vertical', tick_format='0.2f')\n",
    "        fig = Figure(marks=[bar], axes=[ax_x, ax_y], title=f'Histogram of {col}')\n",
    "        figures.append(fig)\n",
    "\n",
    "    # Arrange the histograms in a VBox\n",
    "    return VBox(figures, layout=Layout(flex_flow='row wrap', align_items='stretch', width='100%'))\n"
   ]
  },
  {
   "cell_type": "markdown",
   "id": "46b9a44d-b162-4833-a2dc-b5768c828cac",
   "metadata": {},
   "source": [
    "https://fred.stlouisfed.org/series/MSPUS#0"
   ]
  },
  {
   "cell_type": "markdown",
   "id": "3a3aa21f-779f-4d24-983f-d8a3ee6f4889",
   "metadata": {},
   "source": [
    "## Split the data into train and test sets\n",
    "* 20% for test data\n",
    "* Random state = constant for model reproducibility"
   ]
  },
  {
   "cell_type": "code",
   "execution_count": 33,
   "id": "d4bfcad2-ce79-4476-afdd-8098b29b9e64",
   "metadata": {},
   "outputs": [],
   "source": [
    "X = data_interpolated.drop(['MedianHousePrice'], axis=1)\n",
    "y = data_interpolated['MedianHousePrice']\n",
    "X_train_full, X_test_full, y_train, y_test = train_test_split(X, y, test_size=0.2, random_state=42)"
   ]
  },
  {
   "cell_type": "markdown",
   "id": "b25b13cc-9ccf-4fb6-9de2-1767928840b4",
   "metadata": {},
   "source": [
    "## Preserve Date Column in separate Series for later use in visualization"
   ]
  },
  {
   "cell_type": "code",
   "execution_count": 34,
   "id": "b96615ea-2f3b-4f7c-bcb5-9ded161ef2c2",
   "metadata": {},
   "outputs": [],
   "source": [
    "date_train = X_train_full['Date']\n",
    "date_test = X_test_full['Date']"
   ]
  },
  {
   "cell_type": "markdown",
   "id": "05fcbbed-862a-491f-86ec-5e1950d4534c",
   "metadata": {},
   "source": [
    "## Extract Date column from X_train and X_test for Training Models"
   ]
  },
  {
   "cell_type": "code",
   "execution_count": 35,
   "id": "5d5ab956-54ed-4805-a720-ca51fff0a65f",
   "metadata": {},
   "outputs": [],
   "source": [
    "X_train = X_train_full.drop('Date', axis=1)\n",
    "X_test = X_test_full.drop('Date', axis=1)"
   ]
  },
  {
   "cell_type": "markdown",
   "id": "f0e5e3e5-7809-488e-8778-c77a6d320f37",
   "metadata": {},
   "source": [
    "## Apply Logarithm Transformations \n",
    "* To the target variable (y)\n",
    "* To the numerical features with significant skew\n",
    "* * Year, Month, Lag_1_Month, Lag_3_Month, Lag_6_Month"
   ]
  },
  {
   "cell_type": "code",
   "execution_count": 36,
   "id": "f260aaab-78d3-44ad-b784-6ea2c2d97da1",
   "metadata": {},
   "outputs": [],
   "source": [
    "y_train_logged = np.log1p(y_train)\n",
    "y_test_logged = np.log1p(y_test)"
   ]
  },
  {
   "cell_type": "markdown",
   "id": "58ff63a5-394a-418b-b483-269dc67aefe3",
   "metadata": {},
   "source": [
    "## Apply Logarithmic Transformations to the lag features in the test set"
   ]
  },
  {
   "cell_type": "code",
   "execution_count": 37,
   "id": "0d518f03-5c79-4e80-9f3a-8efb9eb1c051",
   "metadata": {},
   "outputs": [],
   "source": [
    "lag_features = ['Lag_1_Month', 'Lag_3_Month', 'Lag_6_Month']\n",
    "X_train[lag_features] = X_train[lag_features].apply(lambda x: np.log1p(x))\n",
    "X_test[lag_features] = X_test[lag_features].apply(lambda x: np.log1p(x))"
   ]
  },
  {
   "cell_type": "markdown",
   "id": "509e9f72-1f55-438e-a0f4-9bf6892aac96",
   "metadata": {},
   "source": [
    "## Apply the Logarithmic Transformations to the full data to be used for visualizations"
   ]
  },
  {
   "cell_type": "code",
   "execution_count": 38,
   "id": "39531a8f-0aaf-4c09-9a58-0190570f15eb",
   "metadata": {},
   "outputs": [],
   "source": [
    "X_train_full[lag_features] = X_train_full[lag_features].apply(lambda x: np.log1p(x))\n",
    "X_test_full[lag_features] = X_test_full[lag_features].apply(lambda x: np.log1p(x))"
   ]
  },
  {
   "cell_type": "markdown",
   "id": "e5187754-7b43-46cf-92db-08b40b2cb5e5",
   "metadata": {},
   "source": [
    "## Visualize Data Before and After Logarithmic Transformations"
   ]
  },
  {
   "cell_type": "code",
   "execution_count": 39,
   "id": "6d58ac99-3463-4710-a74e-e8c0768181c8",
   "metadata": {},
   "outputs": [
    {
     "data": {
      "application/vnd.jupyter.widget-view+json": {
       "model_id": "5ebc22578a684667a31475fdd0f02d11",
       "version_major": 2,
       "version_minor": 0
      },
      "text/plain": [
       "VBox(children=(Figure(axes=[Axis(label='Year', scale=LinearScale()), Axis(orientation='vertical', scale=Linear…"
      ]
     },
     "execution_count": 39,
     "metadata": {},
     "output_type": "execute_result"
    }
   ],
   "source": [
    "plot_data_bqplot(X_train_full.assign(MedianHousePrice=y_train), 'Initial Data Visualization')"
   ]
  },
  {
   "cell_type": "code",
   "execution_count": 40,
   "id": "f022f535-6c33-425f-b0a8-46752877deeb",
   "metadata": {},
   "outputs": [
    {
     "data": {
      "application/vnd.jupyter.widget-view+json": {
       "model_id": "cea00ba3f4574ed5b8fe3a7d77d06726",
       "version_major": 2,
       "version_minor": 0
      },
      "text/plain": [
       "VBox(children=(Figure(axes=[Axis(label='Year', scale=LinearScale()), Axis(orientation='vertical', scale=Linear…"
      ]
     },
     "execution_count": 40,
     "metadata": {},
     "output_type": "execute_result"
    }
   ],
   "source": [
    "plot_data_bqplot(X_train_full.assign(LoggedMedianHousePrice=y_train_logged), 'Post-Transformation Data Visualization')"
   ]
  },
  {
   "cell_type": "markdown",
   "id": "8fffcbb6-9c7b-4e5c-87da-e276cd5d29c6",
   "metadata": {},
   "source": [
    "## Data Preparation for Modeling\n",
    "\n",
    "* One-hot encode categorical variables and scale numerical features"
   ]
  },
  {
   "cell_type": "markdown",
   "id": "197d6a29-7530-442c-9588-dc28d852f4fe",
   "metadata": {},
   "source": [
    "*Select categorical and numerical features*"
   ]
  },
  {
   "cell_type": "code",
   "execution_count": 41,
   "id": "ba118935-b7dc-4b84-8621-14a68d4bb7be",
   "metadata": {},
   "outputs": [],
   "source": [
    "numerical_features = ['Year', 'Month', 'Lag_1_Month', 'Lag_3_Month', 'Lag_6_Month']  # already log-transformed\n",
    "categorical_features = ['County', 'State']"
   ]
  },
  {
   "cell_type": "markdown",
   "id": "256fe695-48a9-45d9-a528-7b897b26f79d",
   "metadata": {},
   "source": [
    "*Create the ColumnTransformer Preprocessor with transformations for numerical and categorical data*"
   ]
  },
  {
   "cell_type": "code",
   "execution_count": 42,
   "id": "d76fef62-90ed-4cf2-b27f-219bb650cc49",
   "metadata": {},
   "outputs": [],
   "source": [
    "preprocessor = ColumnTransformer(\n",
    "    transformers=[\n",
    "        ('num', StandardScaler(), numerical_features),\n",
    "        ('cat', OneHotEncoder(drop='first'), categorical_features)\n",
    "    ])"
   ]
  },
  {
   "cell_type": "markdown",
   "id": "60e651fa-e918-4471-85f5-5631f6585713",
   "metadata": {},
   "source": [
    "__Combine the preprocessor with a model in a pipeline__"
   ]
  },
  {
   "cell_type": "code",
   "execution_count": 43,
   "id": "56b4ad34-e71e-4d5b-b88c-9bcea69fdd06",
   "metadata": {},
   "outputs": [],
   "source": [
    "linear_pipeline = Pipeline([\n",
    "    ('preprocessor', preprocessor),\n",
    "    ('regressor', LinearRegression())\n",
    "])\n",
    "\n",
    "ridge_pipeline = Pipeline([\n",
    "    ('preprocessor', preprocessor),\n",
    "    ('regressor', RidgeCV(alphas=np.logspace(-6, 6, 13)))\n",
    "])\n",
    "\n",
    "lasso_pipeline = Pipeline([\n",
    "    ('preprocessor', preprocessor),\n",
    "    ('regressor', LassoCV(alphas=np.logspace(-6, 6, 13), max_iter=10000, tol=0.01))\n",
    "])\n",
    "\n",
    "random_forest_pipeline = Pipeline([\n",
    "    ('preprocessor', preprocessor),\n",
    "    ('regressor', RandomForestRegressor(n_estimators=100, random_state=42, n_jobs=-1))\n",
    "])"
   ]
  },
  {
   "cell_type": "markdown",
   "id": "a3b4bbbd-d3e4-4399-a50b-9190c130c403",
   "metadata": {},
   "source": [
    "# Train and Evaluate Linear Regression, Random Forest Regressor, Ridge Regression, and Lasso Regression models\n",
    "* Train models on train dataset\n",
    "* Evaluate models on test dataset\n",
    "* Compare model's performance with and without ordinal formatted date included in dataset"
   ]
  },
  {
   "cell_type": "code",
   "execution_count": 44,
   "id": "f41a0190-b2b8-4ff1-bf95-b3eeb5df40b8",
   "metadata": {},
   "outputs": [
    {
     "name": "stdout",
     "output_type": "stream",
     "text": [
      "Linear Regression RMSE: 81285.60093863156, R^2: 0.5041400921404177\n",
      "Ridge Regression RMSE: 81093.54334743644, R^2: 0.5064805104110306\n",
      "Lasso Regression RMSE: 81339.41807421809, R^2: 0.503483282236388\n",
      "Random Forest RMSE: 62125.43809758818, R^2: 0.7103519010532411\n"
     ]
    }
   ],
   "source": [
    "# Function to fit and evaluate a given model\n",
    "def fit_and_evaluate(pipeline, X_train, y_train, X_test, y_test):\n",
    "    pipeline.fit(X_train, y_train)\n",
    "    y_pred_logged = pipeline.predict(X_test)\n",
    "    y_pred = np.expm1(y_pred_logged)  # inverse of log1p\n",
    "    rmse = np.sqrt(mean_squared_error(np.expm1(y_test), y_pred))\n",
    "    r2 = r2_score(np.expm1(y_test), y_pred)\n",
    "    return rmse, r2\n",
    "\n",
    "# Fit and evaluate each pipeline\n",
    "linear_rmse, linear_r2 = fit_and_evaluate(linear_pipeline, X_train_full, y_train_logged, X_test_full, y_test_logged)\n",
    "ridge_rmse, ridge_r2 = fit_and_evaluate(ridge_pipeline, X_train_full, y_train_logged, X_test_full, y_test_logged)\n",
    "lasso_rmse, lasso_r2 = fit_and_evaluate(lasso_pipeline, X_train_full, y_train_logged, X_test_full, y_test_logged)\n",
    "rf_rmse, rf_r2 = fit_and_evaluate(random_forest_pipeline, X_train_full, y_train_logged, X_test_full, y_test_logged)\n",
    "\n",
    "print(f'Linear Regression RMSE: {linear_rmse}, R^2: {linear_r2}')\n",
    "print(f'Ridge Regression RMSE: {ridge_rmse}, R^2: {ridge_r2}')\n",
    "print(f'Lasso Regression RMSE: {lasso_rmse}, R^2: {lasso_r2}')\n",
    "print(f'Random Forest RMSE: {rf_rmse}, R^2: {rf_r2}')"
   ]
  },
  {
   "cell_type": "markdown",
   "id": "510cd783-d1f7-47e5-8602-46323149ff2c",
   "metadata": {},
   "source": [
    "### Results of First Train and Evaluate without any model tuning\n",
    "* Linear Regression RMSE: 81285.60093863156, R^2: 0.5041400921404177\n",
    "* Ridge Regression RMSE: 81093.54334743644, R^2: 0.5064805104110306\n",
    "* Lasso Regression RMSE: 81339.41807421809, R^2: 0.503483282236388\n",
    "* Random Forest RMSE: 62125.43809758818, R^2: 0.7103519010532411"
   ]
  },
  {
   "cell_type": "markdown",
   "id": "2e8a5bbb-fb0a-4b77-823e-1af76d5323d7",
   "metadata": {},
   "source": [
    "## Perform Cross-Validation Grid-Search to Optimize Random Forest Parameters & Add eXtreme Gradient Boosting model to test for further fitting"
   ]
  },
  {
   "cell_type": "markdown",
   "id": "97fc9d7a-8d46-47ce-9811-e227ed7c93c1",
   "metadata": {},
   "source": [
    "*Setup the Pipelines for Random Forest and XGBoost*"
   ]
  },
  {
   "cell_type": "code",
   "execution_count": 69,
   "id": "207493a5-598a-42a4-9cab-7bb6f80f2fa2",
   "metadata": {},
   "outputs": [],
   "source": [
    "forest_pipeline = Pipeline([\n",
    "    ('preprocessor', preprocessor),\n",
    "    ('forest', RandomForestRegressor(random_state=42))\n",
    "])\n",
    "xgb_pipeline = Pipeline([\n",
    "    ('preprocessor', preprocessor),\n",
    "    ('xgb', xgb.XGBRegressor(objective='reg:squarederror', random_state=42))\n",
    "])"
   ]
  },
  {
   "cell_type": "markdown",
   "id": "cd0d33cc-2239-4a90-8698-654c98f9b8d5",
   "metadata": {},
   "source": [
    "*Parameters for GridSearchCV*"
   ]
  },
  {
   "cell_type": "code",
   "execution_count": 73,
   "id": "4547b8da-d071-4b2e-aae6-02a337aa9daa",
   "metadata": {},
   "outputs": [],
   "source": [
    "forest_params = {\n",
    "    'forest__n_estimators': [100, 200, 300],\n",
    "    'forest__max_features': [None, 'sqrt', 'log2'],\n",
    "    'forest__max_depth': [None, 10, 20, 30],\n",
    "    'forest__min_samples_split': [2, 5, 10],\n",
    "    'forest__min_samples_leaf': [1, 2, 4],\n",
    "}\n",
    "\n",
    "xgb_params = {\n",
    "    'xgb__n_estimators': [100, 200, 300],\n",
    "    'xgb__learning_rate': [0.01, 0.05, 0.1],\n",
    "    'xgb__max_depth': [3, 5, 7],\n",
    "    'xgb__colsample_bytree': [0.5, 0.7, 1.0]\n",
    "}"
   ]
  },
  {
   "cell_type": "markdown",
   "id": "66c9dae3-d284-4424-ab92-ad134f4d7732",
   "metadata": {},
   "source": [
    "*Create GridSearchCV for each model*"
   ]
  },
  {
   "cell_type": "code",
   "execution_count": 74,
   "id": "a16c7af4-187b-42a9-9785-06a9a6ecd274",
   "metadata": {},
   "outputs": [],
   "source": [
    "forest_grid = GridSearchCV(forest_pipeline, forest_params, cv=3, scoring='neg_mean_squared_error', verbose=1, n_jobs=-1)\n",
    "xgb_grid = GridSearchCV(xgb_pipeline, xgb_params, cv=3, scoring='neg_mean_squared_error', verbose=1, n_jobs=-1)"
   ]
  },
  {
   "cell_type": "markdown",
   "id": "3a777f29-86ae-483f-a608-51117d9a2ac4",
   "metadata": {},
   "source": [
    "*Fit the grid search to the data*"
   ]
  },
  {
   "cell_type": "code",
   "execution_count": 75,
   "id": "4d04536d-3063-41f6-9e4a-8b0a40d1214c",
   "metadata": {},
   "outputs": [
    {
     "name": "stdout",
     "output_type": "stream",
     "text": [
      "Fitting 3 folds for each of 324 candidates, totalling 972 fits\n"
     ]
    },
    {
     "name": "stderr",
     "output_type": "stream",
     "text": [
      "C:\\Users\\Veteran\\AppData\\Roaming\\jupyterlab-desktop\\jlab_server\\Lib\\site-packages\\sklearn\\model_selection\\_validation.py:547: FitFailedWarning: \n",
      "324 fits failed out of a total of 972.\n",
      "The score on these train-test partitions for these parameters will be set to nan.\n",
      "If these failures are not expected, you can try to debug them by setting error_score='raise'.\n",
      "\n",
      "Below are more details about the failures:\n",
      "--------------------------------------------------------------------------------\n",
      "181 fits failed with the following error:\n",
      "Traceback (most recent call last):\n",
      "  File \"C:\\Users\\Veteran\\AppData\\Roaming\\jupyterlab-desktop\\jlab_server\\Lib\\site-packages\\sklearn\\model_selection\\_validation.py\", line 895, in _fit_and_score\n",
      "    estimator.fit(X_train, y_train, **fit_params)\n",
      "  File \"C:\\Users\\Veteran\\AppData\\Roaming\\jupyterlab-desktop\\jlab_server\\Lib\\site-packages\\sklearn\\base.py\", line 1474, in wrapper\n",
      "    return fit_method(estimator, *args, **kwargs)\n",
      "           ^^^^^^^^^^^^^^^^^^^^^^^^^^^^^^^^^^^^^^\n",
      "  File \"C:\\Users\\Veteran\\AppData\\Roaming\\jupyterlab-desktop\\jlab_server\\Lib\\site-packages\\sklearn\\pipeline.py\", line 475, in fit\n",
      "    self._final_estimator.fit(Xt, y, **last_step_params[\"fit\"])\n",
      "  File \"C:\\Users\\Veteran\\AppData\\Roaming\\jupyterlab-desktop\\jlab_server\\Lib\\site-packages\\sklearn\\base.py\", line 1467, in wrapper\n",
      "    estimator._validate_params()\n",
      "  File \"C:\\Users\\Veteran\\AppData\\Roaming\\jupyterlab-desktop\\jlab_server\\Lib\\site-packages\\sklearn\\base.py\", line 666, in _validate_params\n",
      "    validate_parameter_constraints(\n",
      "  File \"C:\\Users\\Veteran\\AppData\\Roaming\\jupyterlab-desktop\\jlab_server\\Lib\\site-packages\\sklearn\\utils\\_param_validation.py\", line 95, in validate_parameter_constraints\n",
      "    raise InvalidParameterError(\n",
      "sklearn.utils._param_validation.InvalidParameterError: The 'max_features' parameter of RandomForestRegressor must be an int in the range [1, inf), a float in the range (0.0, 1.0], a str among {'sqrt', 'log2'} or None. Got 'auto' instead.\n",
      "\n",
      "--------------------------------------------------------------------------------\n",
      "143 fits failed with the following error:\n",
      "Traceback (most recent call last):\n",
      "  File \"C:\\Users\\Veteran\\AppData\\Roaming\\jupyterlab-desktop\\jlab_server\\Lib\\site-packages\\sklearn\\model_selection\\_validation.py\", line 895, in _fit_and_score\n",
      "    estimator.fit(X_train, y_train, **fit_params)\n",
      "  File \"C:\\Users\\Veteran\\AppData\\Roaming\\jupyterlab-desktop\\jlab_server\\Lib\\site-packages\\sklearn\\base.py\", line 1474, in wrapper\n",
      "    return fit_method(estimator, *args, **kwargs)\n",
      "           ^^^^^^^^^^^^^^^^^^^^^^^^^^^^^^^^^^^^^^\n",
      "  File \"C:\\Users\\Veteran\\AppData\\Roaming\\jupyterlab-desktop\\jlab_server\\Lib\\site-packages\\sklearn\\pipeline.py\", line 475, in fit\n",
      "    self._final_estimator.fit(Xt, y, **last_step_params[\"fit\"])\n",
      "  File \"C:\\Users\\Veteran\\AppData\\Roaming\\jupyterlab-desktop\\jlab_server\\Lib\\site-packages\\sklearn\\base.py\", line 1467, in wrapper\n",
      "    estimator._validate_params()\n",
      "  File \"C:\\Users\\Veteran\\AppData\\Roaming\\jupyterlab-desktop\\jlab_server\\Lib\\site-packages\\sklearn\\base.py\", line 666, in _validate_params\n",
      "    validate_parameter_constraints(\n",
      "  File \"C:\\Users\\Veteran\\AppData\\Roaming\\jupyterlab-desktop\\jlab_server\\Lib\\site-packages\\sklearn\\utils\\_param_validation.py\", line 95, in validate_parameter_constraints\n",
      "    raise InvalidParameterError(\n",
      "sklearn.utils._param_validation.InvalidParameterError: The 'max_features' parameter of RandomForestRegressor must be an int in the range [1, inf), a float in the range (0.0, 1.0], a str among {'log2', 'sqrt'} or None. Got 'auto' instead.\n",
      "\n",
      "  warnings.warn(some_fits_failed_message, FitFailedWarning)\n",
      "C:\\Users\\Veteran\\AppData\\Roaming\\jupyterlab-desktop\\jlab_server\\Lib\\site-packages\\sklearn\\model_selection\\_search.py:1051: UserWarning: One or more of the test scores are non-finite: [            nan             nan             nan             nan\n",
      "             nan             nan             nan             nan\n",
      "             nan             nan             nan             nan\n",
      "             nan             nan             nan             nan\n",
      "             nan             nan             nan             nan\n",
      "             nan             nan             nan             nan\n",
      "             nan             nan             nan -3.54438951e+09\n",
      " -3.51559876e+09 -3.52257993e+09 -3.64913788e+09 -3.61938646e+09\n",
      " -3.62370035e+09 -3.80117754e+09 -3.77135796e+09 -3.77572579e+09\n",
      " -4.51247078e+09 -4.49272070e+09 -4.51634850e+09 -4.55753534e+09\n",
      " -4.50879186e+09 -4.52474670e+09 -4.65187361e+09 -4.62116604e+09\n",
      " -4.63721943e+09 -5.26065074e+09 -5.21881497e+09 -5.24173807e+09\n",
      " -5.26065074e+09 -5.21881497e+09 -5.24173807e+09 -5.25097840e+09\n",
      " -5.23531338e+09 -5.26434917e+09 -3.53764139e+09 -3.50469794e+09\n",
      " -3.49554785e+09 -3.65945756e+09 -3.63296747e+09 -3.61604617e+09\n",
      " -3.84099010e+09 -3.81096446e+09 -3.79417780e+09 -4.72597722e+09\n",
      " -4.73257536e+09 -4.71338503e+09 -4.73507125e+09 -4.74757687e+09\n",
      " -4.73589588e+09 -4.85562964e+09 -4.85962092e+09 -4.84762377e+09\n",
      " -5.43341538e+09 -5.43981777e+09 -5.41837084e+09 -5.43341538e+09\n",
      " -5.43981777e+09 -5.41837084e+09 -5.44384499e+09 -5.47685859e+09\n",
      " -5.46995360e+09             nan             nan             nan\n",
      "             nan             nan             nan             nan\n",
      "             nan             nan             nan             nan\n",
      "             nan             nan             nan             nan\n",
      "             nan             nan             nan             nan\n",
      "             nan             nan             nan             nan\n",
      "             nan             nan             nan             nan\n",
      " -1.06868437e+10 -1.06369630e+10 -1.06529337e+10 -1.06822718e+10\n",
      " -1.06467950e+10 -1.06628631e+10 -1.06911887e+10 -1.06299406e+10\n",
      " -1.06686949e+10 -1.06159974e+10 -1.05960271e+10 -1.06215360e+10\n",
      " -1.06824439e+10 -1.06346297e+10 -1.06575129e+10 -1.06494140e+10\n",
      " -1.06320103e+10 -1.06600557e+10 -1.06785749e+10 -1.06450803e+10\n",
      " -1.06665885e+10 -1.06785749e+10 -1.06450803e+10 -1.06665885e+10\n",
      " -1.06814114e+10 -1.06337036e+10 -1.06641085e+10 -1.23295480e+10\n",
      " -1.23802457e+10 -1.23637470e+10 -1.23373833e+10 -1.23982515e+10\n",
      " -1.23720158e+10 -1.23299719e+10 -1.23905330e+10 -1.23682235e+10\n",
      " -1.23421153e+10 -1.23954736e+10 -1.23644228e+10 -1.23312009e+10\n",
      " -1.23918318e+10 -1.23634145e+10 -1.23343890e+10 -1.23887703e+10\n",
      " -1.23701708e+10 -1.23269886e+10 -1.23924434e+10 -1.23681933e+10\n",
      " -1.23269886e+10 -1.23924434e+10 -1.23681933e+10 -1.23347815e+10\n",
      " -1.23979745e+10 -1.23764935e+10             nan             nan\n",
      "             nan             nan             nan             nan\n",
      "             nan             nan             nan             nan\n",
      "             nan             nan             nan             nan\n",
      "             nan             nan             nan             nan\n",
      "             nan             nan             nan             nan\n",
      "             nan             nan             nan             nan\n",
      "             nan -8.82195224e+09 -8.75422216e+09 -8.74808589e+09\n",
      " -8.85311805e+09 -8.76031362e+09 -8.75909377e+09 -8.88467897e+09\n",
      " -8.79955832e+09 -8.80075445e+09 -8.81388013e+09 -8.77499393e+09\n",
      " -8.78726426e+09 -8.85277027e+09 -8.79581810e+09 -8.80787353e+09\n",
      " -8.86260006e+09 -8.84663399e+09 -8.85722707e+09 -8.92122616e+09\n",
      " -8.84743332e+09 -8.86346313e+09 -8.92122616e+09 -8.84743332e+09\n",
      " -8.86346313e+09 -8.92219745e+09 -8.84435900e+09 -8.84100780e+09\n",
      " -1.13235910e+10 -1.14327200e+10 -1.13948236e+10 -1.13558754e+10\n",
      " -1.14361239e+10 -1.13994301e+10 -1.13675273e+10 -1.14539628e+10\n",
      " -1.14162730e+10 -1.13721892e+10 -1.14661074e+10 -1.14297138e+10\n",
      " -1.13681926e+10 -1.14653452e+10 -1.14320723e+10 -1.13530873e+10\n",
      " -1.14429330e+10 -1.14074200e+10 -1.13653003e+10 -1.14739486e+10\n",
      " -1.14398129e+10 -1.13653003e+10 -1.14739486e+10 -1.14398129e+10\n",
      " -1.13844049e+10 -1.14777602e+10 -1.14404289e+10             nan\n",
      "             nan             nan             nan             nan\n",
      "             nan             nan             nan             nan\n",
      "             nan             nan             nan             nan\n",
      "             nan             nan             nan             nan\n",
      "             nan             nan             nan             nan\n",
      "             nan             nan             nan             nan\n",
      "             nan             nan -7.34552057e+09 -7.32505739e+09\n",
      " -7.33249437e+09 -7.39414258e+09 -7.37558585e+09 -7.38894454e+09\n",
      " -7.46571561e+09 -7.43017186e+09 -7.42141728e+09 -7.49430798e+09\n",
      " -7.46231858e+09 -7.47904137e+09 -7.51168457e+09 -7.44939148e+09\n",
      " -7.46000160e+09 -7.52448005e+09 -7.50286417e+09 -7.51871917e+09\n",
      " -7.65239900e+09 -7.65473716e+09 -7.63690416e+09 -7.65239900e+09\n",
      " -7.65473716e+09 -7.63690416e+09 -7.60692381e+09 -7.60600954e+09\n",
      " -7.62679347e+09 -1.04206966e+10 -1.04867382e+10 -1.04547744e+10\n",
      " -1.04419230e+10 -1.05016277e+10 -1.04782587e+10 -1.04649939e+10\n",
      " -1.05399464e+10 -1.05137742e+10 -1.04480568e+10 -1.05168237e+10\n",
      " -1.05099433e+10 -1.04970798e+10 -1.05489135e+10 -1.05263961e+10\n",
      " -1.05062345e+10 -1.05761054e+10 -1.05472787e+10 -1.05452566e+10\n",
      " -1.05890302e+10 -1.05766629e+10 -1.05452566e+10 -1.05890302e+10\n",
      " -1.05766629e+10 -1.05413621e+10 -1.05989454e+10 -1.05835299e+10]\n",
      "  warnings.warn(\n"
     ]
    },
    {
     "ename": "KeyboardInterrupt",
     "evalue": "",
     "output_type": "error",
     "traceback": [
      "\u001b[1;31m---------------------------------------------------------------------------\u001b[0m",
      "\u001b[1;31mKeyboardInterrupt\u001b[0m                         Traceback (most recent call last)",
      "Cell \u001b[1;32mIn[75], line 1\u001b[0m\n\u001b[1;32m----> 1\u001b[0m \u001b[43mforest_grid\u001b[49m\u001b[38;5;241;43m.\u001b[39;49m\u001b[43mfit\u001b[49m\u001b[43m(\u001b[49m\u001b[43mX_train\u001b[49m\u001b[43m,\u001b[49m\u001b[43m \u001b[49m\u001b[43my_train\u001b[49m\u001b[43m)\u001b[49m\n\u001b[0;32m      2\u001b[0m xgb_grid\u001b[38;5;241m.\u001b[39mfit(X_train, y_train)\n",
      "File \u001b[1;32m~\\AppData\\Roaming\\jupyterlab-desktop\\jlab_server\\Lib\\site-packages\\sklearn\\base.py:1474\u001b[0m, in \u001b[0;36m_fit_context.<locals>.decorator.<locals>.wrapper\u001b[1;34m(estimator, *args, **kwargs)\u001b[0m\n\u001b[0;32m   1467\u001b[0m     estimator\u001b[38;5;241m.\u001b[39m_validate_params()\n\u001b[0;32m   1469\u001b[0m \u001b[38;5;28;01mwith\u001b[39;00m config_context(\n\u001b[0;32m   1470\u001b[0m     skip_parameter_validation\u001b[38;5;241m=\u001b[39m(\n\u001b[0;32m   1471\u001b[0m         prefer_skip_nested_validation \u001b[38;5;129;01mor\u001b[39;00m global_skip_validation\n\u001b[0;32m   1472\u001b[0m     )\n\u001b[0;32m   1473\u001b[0m ):\n\u001b[1;32m-> 1474\u001b[0m     \u001b[38;5;28;01mreturn\u001b[39;00m \u001b[43mfit_method\u001b[49m\u001b[43m(\u001b[49m\u001b[43mestimator\u001b[49m\u001b[43m,\u001b[49m\u001b[43m \u001b[49m\u001b[38;5;241;43m*\u001b[39;49m\u001b[43margs\u001b[49m\u001b[43m,\u001b[49m\u001b[43m \u001b[49m\u001b[38;5;241;43m*\u001b[39;49m\u001b[38;5;241;43m*\u001b[39;49m\u001b[43mkwargs\u001b[49m\u001b[43m)\u001b[49m\n",
      "File \u001b[1;32m~\\AppData\\Roaming\\jupyterlab-desktop\\jlab_server\\Lib\\site-packages\\sklearn\\model_selection\\_search.py:1008\u001b[0m, in \u001b[0;36mBaseSearchCV.fit\u001b[1;34m(self, X, y, **params)\u001b[0m\n\u001b[0;32m   1006\u001b[0m refit_start_time \u001b[38;5;241m=\u001b[39m time\u001b[38;5;241m.\u001b[39mtime()\n\u001b[0;32m   1007\u001b[0m \u001b[38;5;28;01mif\u001b[39;00m y \u001b[38;5;129;01mis\u001b[39;00m \u001b[38;5;129;01mnot\u001b[39;00m \u001b[38;5;28;01mNone\u001b[39;00m:\n\u001b[1;32m-> 1008\u001b[0m     \u001b[38;5;28;43mself\u001b[39;49m\u001b[38;5;241;43m.\u001b[39;49m\u001b[43mbest_estimator_\u001b[49m\u001b[38;5;241;43m.\u001b[39;49m\u001b[43mfit\u001b[49m\u001b[43m(\u001b[49m\u001b[43mX\u001b[49m\u001b[43m,\u001b[49m\u001b[43m \u001b[49m\u001b[43my\u001b[49m\u001b[43m,\u001b[49m\u001b[43m \u001b[49m\u001b[38;5;241;43m*\u001b[39;49m\u001b[38;5;241;43m*\u001b[39;49m\u001b[43mrouted_params\u001b[49m\u001b[38;5;241;43m.\u001b[39;49m\u001b[43mestimator\u001b[49m\u001b[38;5;241;43m.\u001b[39;49m\u001b[43mfit\u001b[49m\u001b[43m)\u001b[49m\n\u001b[0;32m   1009\u001b[0m \u001b[38;5;28;01melse\u001b[39;00m:\n\u001b[0;32m   1010\u001b[0m     \u001b[38;5;28mself\u001b[39m\u001b[38;5;241m.\u001b[39mbest_estimator_\u001b[38;5;241m.\u001b[39mfit(X, \u001b[38;5;241m*\u001b[39m\u001b[38;5;241m*\u001b[39mrouted_params\u001b[38;5;241m.\u001b[39mestimator\u001b[38;5;241m.\u001b[39mfit)\n",
      "File \u001b[1;32m~\\AppData\\Roaming\\jupyterlab-desktop\\jlab_server\\Lib\\site-packages\\sklearn\\base.py:1474\u001b[0m, in \u001b[0;36m_fit_context.<locals>.decorator.<locals>.wrapper\u001b[1;34m(estimator, *args, **kwargs)\u001b[0m\n\u001b[0;32m   1467\u001b[0m     estimator\u001b[38;5;241m.\u001b[39m_validate_params()\n\u001b[0;32m   1469\u001b[0m \u001b[38;5;28;01mwith\u001b[39;00m config_context(\n\u001b[0;32m   1470\u001b[0m     skip_parameter_validation\u001b[38;5;241m=\u001b[39m(\n\u001b[0;32m   1471\u001b[0m         prefer_skip_nested_validation \u001b[38;5;129;01mor\u001b[39;00m global_skip_validation\n\u001b[0;32m   1472\u001b[0m     )\n\u001b[0;32m   1473\u001b[0m ):\n\u001b[1;32m-> 1474\u001b[0m     \u001b[38;5;28;01mreturn\u001b[39;00m \u001b[43mfit_method\u001b[49m\u001b[43m(\u001b[49m\u001b[43mestimator\u001b[49m\u001b[43m,\u001b[49m\u001b[43m \u001b[49m\u001b[38;5;241;43m*\u001b[39;49m\u001b[43margs\u001b[49m\u001b[43m,\u001b[49m\u001b[43m \u001b[49m\u001b[38;5;241;43m*\u001b[39;49m\u001b[38;5;241;43m*\u001b[39;49m\u001b[43mkwargs\u001b[49m\u001b[43m)\u001b[49m\n",
      "File \u001b[1;32m~\\AppData\\Roaming\\jupyterlab-desktop\\jlab_server\\Lib\\site-packages\\sklearn\\pipeline.py:475\u001b[0m, in \u001b[0;36mPipeline.fit\u001b[1;34m(self, X, y, **params)\u001b[0m\n\u001b[0;32m    473\u001b[0m     \u001b[38;5;28;01mif\u001b[39;00m \u001b[38;5;28mself\u001b[39m\u001b[38;5;241m.\u001b[39m_final_estimator \u001b[38;5;241m!=\u001b[39m \u001b[38;5;124m\"\u001b[39m\u001b[38;5;124mpassthrough\u001b[39m\u001b[38;5;124m\"\u001b[39m:\n\u001b[0;32m    474\u001b[0m         last_step_params \u001b[38;5;241m=\u001b[39m routed_params[\u001b[38;5;28mself\u001b[39m\u001b[38;5;241m.\u001b[39msteps[\u001b[38;5;241m-\u001b[39m\u001b[38;5;241m1\u001b[39m][\u001b[38;5;241m0\u001b[39m]]\n\u001b[1;32m--> 475\u001b[0m         \u001b[38;5;28;43mself\u001b[39;49m\u001b[38;5;241;43m.\u001b[39;49m\u001b[43m_final_estimator\u001b[49m\u001b[38;5;241;43m.\u001b[39;49m\u001b[43mfit\u001b[49m\u001b[43m(\u001b[49m\u001b[43mXt\u001b[49m\u001b[43m,\u001b[49m\u001b[43m \u001b[49m\u001b[43my\u001b[49m\u001b[43m,\u001b[49m\u001b[43m \u001b[49m\u001b[38;5;241;43m*\u001b[39;49m\u001b[38;5;241;43m*\u001b[39;49m\u001b[43mlast_step_params\u001b[49m\u001b[43m[\u001b[49m\u001b[38;5;124;43m\"\u001b[39;49m\u001b[38;5;124;43mfit\u001b[39;49m\u001b[38;5;124;43m\"\u001b[39;49m\u001b[43m]\u001b[49m\u001b[43m)\u001b[49m\n\u001b[0;32m    477\u001b[0m \u001b[38;5;28;01mreturn\u001b[39;00m \u001b[38;5;28mself\u001b[39m\n",
      "File \u001b[1;32m~\\AppData\\Roaming\\jupyterlab-desktop\\jlab_server\\Lib\\site-packages\\sklearn\\base.py:1474\u001b[0m, in \u001b[0;36m_fit_context.<locals>.decorator.<locals>.wrapper\u001b[1;34m(estimator, *args, **kwargs)\u001b[0m\n\u001b[0;32m   1467\u001b[0m     estimator\u001b[38;5;241m.\u001b[39m_validate_params()\n\u001b[0;32m   1469\u001b[0m \u001b[38;5;28;01mwith\u001b[39;00m config_context(\n\u001b[0;32m   1470\u001b[0m     skip_parameter_validation\u001b[38;5;241m=\u001b[39m(\n\u001b[0;32m   1471\u001b[0m         prefer_skip_nested_validation \u001b[38;5;129;01mor\u001b[39;00m global_skip_validation\n\u001b[0;32m   1472\u001b[0m     )\n\u001b[0;32m   1473\u001b[0m ):\n\u001b[1;32m-> 1474\u001b[0m     \u001b[38;5;28;01mreturn\u001b[39;00m \u001b[43mfit_method\u001b[49m\u001b[43m(\u001b[49m\u001b[43mestimator\u001b[49m\u001b[43m,\u001b[49m\u001b[43m \u001b[49m\u001b[38;5;241;43m*\u001b[39;49m\u001b[43margs\u001b[49m\u001b[43m,\u001b[49m\u001b[43m \u001b[49m\u001b[38;5;241;43m*\u001b[39;49m\u001b[38;5;241;43m*\u001b[39;49m\u001b[43mkwargs\u001b[49m\u001b[43m)\u001b[49m\n",
      "File \u001b[1;32m~\\AppData\\Roaming\\jupyterlab-desktop\\jlab_server\\Lib\\site-packages\\sklearn\\ensemble\\_forest.py:489\u001b[0m, in \u001b[0;36mBaseForest.fit\u001b[1;34m(self, X, y, sample_weight)\u001b[0m\n\u001b[0;32m    478\u001b[0m trees \u001b[38;5;241m=\u001b[39m [\n\u001b[0;32m    479\u001b[0m     \u001b[38;5;28mself\u001b[39m\u001b[38;5;241m.\u001b[39m_make_estimator(append\u001b[38;5;241m=\u001b[39m\u001b[38;5;28;01mFalse\u001b[39;00m, random_state\u001b[38;5;241m=\u001b[39mrandom_state)\n\u001b[0;32m    480\u001b[0m     \u001b[38;5;28;01mfor\u001b[39;00m i \u001b[38;5;129;01min\u001b[39;00m \u001b[38;5;28mrange\u001b[39m(n_more_estimators)\n\u001b[0;32m    481\u001b[0m ]\n\u001b[0;32m    483\u001b[0m \u001b[38;5;66;03m# Parallel loop: we prefer the threading backend as the Cython code\u001b[39;00m\n\u001b[0;32m    484\u001b[0m \u001b[38;5;66;03m# for fitting the trees is internally releasing the Python GIL\u001b[39;00m\n\u001b[0;32m    485\u001b[0m \u001b[38;5;66;03m# making threading more efficient than multiprocessing in\u001b[39;00m\n\u001b[0;32m    486\u001b[0m \u001b[38;5;66;03m# that case. However, for joblib 0.12+ we respect any\u001b[39;00m\n\u001b[0;32m    487\u001b[0m \u001b[38;5;66;03m# parallel_backend contexts set at a higher level,\u001b[39;00m\n\u001b[0;32m    488\u001b[0m \u001b[38;5;66;03m# since correctness does not rely on using threads.\u001b[39;00m\n\u001b[1;32m--> 489\u001b[0m trees \u001b[38;5;241m=\u001b[39m \u001b[43mParallel\u001b[49m\u001b[43m(\u001b[49m\n\u001b[0;32m    490\u001b[0m \u001b[43m    \u001b[49m\u001b[43mn_jobs\u001b[49m\u001b[38;5;241;43m=\u001b[39;49m\u001b[38;5;28;43mself\u001b[39;49m\u001b[38;5;241;43m.\u001b[39;49m\u001b[43mn_jobs\u001b[49m\u001b[43m,\u001b[49m\n\u001b[0;32m    491\u001b[0m \u001b[43m    \u001b[49m\u001b[43mverbose\u001b[49m\u001b[38;5;241;43m=\u001b[39;49m\u001b[38;5;28;43mself\u001b[39;49m\u001b[38;5;241;43m.\u001b[39;49m\u001b[43mverbose\u001b[49m\u001b[43m,\u001b[49m\n\u001b[0;32m    492\u001b[0m \u001b[43m    \u001b[49m\u001b[43mprefer\u001b[49m\u001b[38;5;241;43m=\u001b[39;49m\u001b[38;5;124;43m\"\u001b[39;49m\u001b[38;5;124;43mthreads\u001b[39;49m\u001b[38;5;124;43m\"\u001b[39;49m\u001b[43m,\u001b[49m\n\u001b[0;32m    493\u001b[0m \u001b[43m\u001b[49m\u001b[43m)\u001b[49m\u001b[43m(\u001b[49m\n\u001b[0;32m    494\u001b[0m \u001b[43m    \u001b[49m\u001b[43mdelayed\u001b[49m\u001b[43m(\u001b[49m\u001b[43m_parallel_build_trees\u001b[49m\u001b[43m)\u001b[49m\u001b[43m(\u001b[49m\n\u001b[0;32m    495\u001b[0m \u001b[43m        \u001b[49m\u001b[43mt\u001b[49m\u001b[43m,\u001b[49m\n\u001b[0;32m    496\u001b[0m \u001b[43m        \u001b[49m\u001b[38;5;28;43mself\u001b[39;49m\u001b[38;5;241;43m.\u001b[39;49m\u001b[43mbootstrap\u001b[49m\u001b[43m,\u001b[49m\n\u001b[0;32m    497\u001b[0m \u001b[43m        \u001b[49m\u001b[43mX\u001b[49m\u001b[43m,\u001b[49m\n\u001b[0;32m    498\u001b[0m \u001b[43m        \u001b[49m\u001b[43my\u001b[49m\u001b[43m,\u001b[49m\n\u001b[0;32m    499\u001b[0m \u001b[43m        \u001b[49m\u001b[43msample_weight\u001b[49m\u001b[43m,\u001b[49m\n\u001b[0;32m    500\u001b[0m \u001b[43m        \u001b[49m\u001b[43mi\u001b[49m\u001b[43m,\u001b[49m\n\u001b[0;32m    501\u001b[0m \u001b[43m        \u001b[49m\u001b[38;5;28;43mlen\u001b[39;49m\u001b[43m(\u001b[49m\u001b[43mtrees\u001b[49m\u001b[43m)\u001b[49m\u001b[43m,\u001b[49m\n\u001b[0;32m    502\u001b[0m \u001b[43m        \u001b[49m\u001b[43mverbose\u001b[49m\u001b[38;5;241;43m=\u001b[39;49m\u001b[38;5;28;43mself\u001b[39;49m\u001b[38;5;241;43m.\u001b[39;49m\u001b[43mverbose\u001b[49m\u001b[43m,\u001b[49m\n\u001b[0;32m    503\u001b[0m \u001b[43m        \u001b[49m\u001b[43mclass_weight\u001b[49m\u001b[38;5;241;43m=\u001b[39;49m\u001b[38;5;28;43mself\u001b[39;49m\u001b[38;5;241;43m.\u001b[39;49m\u001b[43mclass_weight\u001b[49m\u001b[43m,\u001b[49m\n\u001b[0;32m    504\u001b[0m \u001b[43m        \u001b[49m\u001b[43mn_samples_bootstrap\u001b[49m\u001b[38;5;241;43m=\u001b[39;49m\u001b[43mn_samples_bootstrap\u001b[49m\u001b[43m,\u001b[49m\n\u001b[0;32m    505\u001b[0m \u001b[43m        \u001b[49m\u001b[43mmissing_values_in_feature_mask\u001b[49m\u001b[38;5;241;43m=\u001b[39;49m\u001b[43mmissing_values_in_feature_mask\u001b[49m\u001b[43m,\u001b[49m\n\u001b[0;32m    506\u001b[0m \u001b[43m    \u001b[49m\u001b[43m)\u001b[49m\n\u001b[0;32m    507\u001b[0m \u001b[43m    \u001b[49m\u001b[38;5;28;43;01mfor\u001b[39;49;00m\u001b[43m \u001b[49m\u001b[43mi\u001b[49m\u001b[43m,\u001b[49m\u001b[43m \u001b[49m\u001b[43mt\u001b[49m\u001b[43m \u001b[49m\u001b[38;5;129;43;01min\u001b[39;49;00m\u001b[43m \u001b[49m\u001b[38;5;28;43menumerate\u001b[39;49m\u001b[43m(\u001b[49m\u001b[43mtrees\u001b[49m\u001b[43m)\u001b[49m\n\u001b[0;32m    508\u001b[0m \u001b[43m\u001b[49m\u001b[43m)\u001b[49m\n\u001b[0;32m    510\u001b[0m \u001b[38;5;66;03m# Collect newly grown trees\u001b[39;00m\n\u001b[0;32m    511\u001b[0m \u001b[38;5;28mself\u001b[39m\u001b[38;5;241m.\u001b[39mestimators_\u001b[38;5;241m.\u001b[39mextend(trees)\n",
      "File \u001b[1;32m~\\AppData\\Roaming\\jupyterlab-desktop\\jlab_server\\Lib\\site-packages\\sklearn\\utils\\parallel.py:67\u001b[0m, in \u001b[0;36mParallel.__call__\u001b[1;34m(self, iterable)\u001b[0m\n\u001b[0;32m     62\u001b[0m config \u001b[38;5;241m=\u001b[39m get_config()\n\u001b[0;32m     63\u001b[0m iterable_with_config \u001b[38;5;241m=\u001b[39m (\n\u001b[0;32m     64\u001b[0m     (_with_config(delayed_func, config), args, kwargs)\n\u001b[0;32m     65\u001b[0m     \u001b[38;5;28;01mfor\u001b[39;00m delayed_func, args, kwargs \u001b[38;5;129;01min\u001b[39;00m iterable\n\u001b[0;32m     66\u001b[0m )\n\u001b[1;32m---> 67\u001b[0m \u001b[38;5;28;01mreturn\u001b[39;00m \u001b[38;5;28;43msuper\u001b[39;49m\u001b[43m(\u001b[49m\u001b[43m)\u001b[49m\u001b[38;5;241;43m.\u001b[39;49m\u001b[38;5;21;43m__call__\u001b[39;49m\u001b[43m(\u001b[49m\u001b[43miterable_with_config\u001b[49m\u001b[43m)\u001b[49m\n",
      "File \u001b[1;32m~\\AppData\\Roaming\\jupyterlab-desktop\\jlab_server\\Lib\\site-packages\\joblib\\parallel.py:1863\u001b[0m, in \u001b[0;36mParallel.__call__\u001b[1;34m(self, iterable)\u001b[0m\n\u001b[0;32m   1861\u001b[0m     output \u001b[38;5;241m=\u001b[39m \u001b[38;5;28mself\u001b[39m\u001b[38;5;241m.\u001b[39m_get_sequential_output(iterable)\n\u001b[0;32m   1862\u001b[0m     \u001b[38;5;28mnext\u001b[39m(output)\n\u001b[1;32m-> 1863\u001b[0m     \u001b[38;5;28;01mreturn\u001b[39;00m output \u001b[38;5;28;01mif\u001b[39;00m \u001b[38;5;28mself\u001b[39m\u001b[38;5;241m.\u001b[39mreturn_generator \u001b[38;5;28;01melse\u001b[39;00m \u001b[38;5;28;43mlist\u001b[39;49m\u001b[43m(\u001b[49m\u001b[43moutput\u001b[49m\u001b[43m)\u001b[49m\n\u001b[0;32m   1865\u001b[0m \u001b[38;5;66;03m# Let's create an ID that uniquely identifies the current call. If the\u001b[39;00m\n\u001b[0;32m   1866\u001b[0m \u001b[38;5;66;03m# call is interrupted early and that the same instance is immediately\u001b[39;00m\n\u001b[0;32m   1867\u001b[0m \u001b[38;5;66;03m# re-used, this id will be used to prevent workers that were\u001b[39;00m\n\u001b[0;32m   1868\u001b[0m \u001b[38;5;66;03m# concurrently finalizing a task from the previous call to run the\u001b[39;00m\n\u001b[0;32m   1869\u001b[0m \u001b[38;5;66;03m# callback.\u001b[39;00m\n\u001b[0;32m   1870\u001b[0m \u001b[38;5;28;01mwith\u001b[39;00m \u001b[38;5;28mself\u001b[39m\u001b[38;5;241m.\u001b[39m_lock:\n",
      "File \u001b[1;32m~\\AppData\\Roaming\\jupyterlab-desktop\\jlab_server\\Lib\\site-packages\\joblib\\parallel.py:1792\u001b[0m, in \u001b[0;36mParallel._get_sequential_output\u001b[1;34m(self, iterable)\u001b[0m\n\u001b[0;32m   1790\u001b[0m \u001b[38;5;28mself\u001b[39m\u001b[38;5;241m.\u001b[39mn_dispatched_batches \u001b[38;5;241m+\u001b[39m\u001b[38;5;241m=\u001b[39m \u001b[38;5;241m1\u001b[39m\n\u001b[0;32m   1791\u001b[0m \u001b[38;5;28mself\u001b[39m\u001b[38;5;241m.\u001b[39mn_dispatched_tasks \u001b[38;5;241m+\u001b[39m\u001b[38;5;241m=\u001b[39m \u001b[38;5;241m1\u001b[39m\n\u001b[1;32m-> 1792\u001b[0m res \u001b[38;5;241m=\u001b[39m \u001b[43mfunc\u001b[49m\u001b[43m(\u001b[49m\u001b[38;5;241;43m*\u001b[39;49m\u001b[43margs\u001b[49m\u001b[43m,\u001b[49m\u001b[43m \u001b[49m\u001b[38;5;241;43m*\u001b[39;49m\u001b[38;5;241;43m*\u001b[39;49m\u001b[43mkwargs\u001b[49m\u001b[43m)\u001b[49m\n\u001b[0;32m   1793\u001b[0m \u001b[38;5;28mself\u001b[39m\u001b[38;5;241m.\u001b[39mn_completed_tasks \u001b[38;5;241m+\u001b[39m\u001b[38;5;241m=\u001b[39m \u001b[38;5;241m1\u001b[39m\n\u001b[0;32m   1794\u001b[0m \u001b[38;5;28mself\u001b[39m\u001b[38;5;241m.\u001b[39mprint_progress()\n",
      "File \u001b[1;32m~\\AppData\\Roaming\\jupyterlab-desktop\\jlab_server\\Lib\\site-packages\\sklearn\\utils\\parallel.py:129\u001b[0m, in \u001b[0;36m_FuncWrapper.__call__\u001b[1;34m(self, *args, **kwargs)\u001b[0m\n\u001b[0;32m    127\u001b[0m     config \u001b[38;5;241m=\u001b[39m {}\n\u001b[0;32m    128\u001b[0m \u001b[38;5;28;01mwith\u001b[39;00m config_context(\u001b[38;5;241m*\u001b[39m\u001b[38;5;241m*\u001b[39mconfig):\n\u001b[1;32m--> 129\u001b[0m     \u001b[38;5;28;01mreturn\u001b[39;00m \u001b[38;5;28;43mself\u001b[39;49m\u001b[38;5;241;43m.\u001b[39;49m\u001b[43mfunction\u001b[49m\u001b[43m(\u001b[49m\u001b[38;5;241;43m*\u001b[39;49m\u001b[43margs\u001b[49m\u001b[43m,\u001b[49m\u001b[43m \u001b[49m\u001b[38;5;241;43m*\u001b[39;49m\u001b[38;5;241;43m*\u001b[39;49m\u001b[43mkwargs\u001b[49m\u001b[43m)\u001b[49m\n",
      "File \u001b[1;32m~\\AppData\\Roaming\\jupyterlab-desktop\\jlab_server\\Lib\\site-packages\\sklearn\\ensemble\\_forest.py:192\u001b[0m, in \u001b[0;36m_parallel_build_trees\u001b[1;34m(tree, bootstrap, X, y, sample_weight, tree_idx, n_trees, verbose, class_weight, n_samples_bootstrap, missing_values_in_feature_mask)\u001b[0m\n\u001b[0;32m    189\u001b[0m     \u001b[38;5;28;01melif\u001b[39;00m class_weight \u001b[38;5;241m==\u001b[39m \u001b[38;5;124m\"\u001b[39m\u001b[38;5;124mbalanced_subsample\u001b[39m\u001b[38;5;124m\"\u001b[39m:\n\u001b[0;32m    190\u001b[0m         curr_sample_weight \u001b[38;5;241m*\u001b[39m\u001b[38;5;241m=\u001b[39m compute_sample_weight(\u001b[38;5;124m\"\u001b[39m\u001b[38;5;124mbalanced\u001b[39m\u001b[38;5;124m\"\u001b[39m, y, indices\u001b[38;5;241m=\u001b[39mindices)\n\u001b[1;32m--> 192\u001b[0m     \u001b[43mtree\u001b[49m\u001b[38;5;241;43m.\u001b[39;49m\u001b[43m_fit\u001b[49m\u001b[43m(\u001b[49m\n\u001b[0;32m    193\u001b[0m \u001b[43m        \u001b[49m\u001b[43mX\u001b[49m\u001b[43m,\u001b[49m\n\u001b[0;32m    194\u001b[0m \u001b[43m        \u001b[49m\u001b[43my\u001b[49m\u001b[43m,\u001b[49m\n\u001b[0;32m    195\u001b[0m \u001b[43m        \u001b[49m\u001b[43msample_weight\u001b[49m\u001b[38;5;241;43m=\u001b[39;49m\u001b[43mcurr_sample_weight\u001b[49m\u001b[43m,\u001b[49m\n\u001b[0;32m    196\u001b[0m \u001b[43m        \u001b[49m\u001b[43mcheck_input\u001b[49m\u001b[38;5;241;43m=\u001b[39;49m\u001b[38;5;28;43;01mFalse\u001b[39;49;00m\u001b[43m,\u001b[49m\n\u001b[0;32m    197\u001b[0m \u001b[43m        \u001b[49m\u001b[43mmissing_values_in_feature_mask\u001b[49m\u001b[38;5;241;43m=\u001b[39;49m\u001b[43mmissing_values_in_feature_mask\u001b[49m\u001b[43m,\u001b[49m\n\u001b[0;32m    198\u001b[0m \u001b[43m    \u001b[49m\u001b[43m)\u001b[49m\n\u001b[0;32m    199\u001b[0m \u001b[38;5;28;01melse\u001b[39;00m:\n\u001b[0;32m    200\u001b[0m     tree\u001b[38;5;241m.\u001b[39m_fit(\n\u001b[0;32m    201\u001b[0m         X,\n\u001b[0;32m    202\u001b[0m         y,\n\u001b[1;32m   (...)\u001b[0m\n\u001b[0;32m    205\u001b[0m         missing_values_in_feature_mask\u001b[38;5;241m=\u001b[39mmissing_values_in_feature_mask,\n\u001b[0;32m    206\u001b[0m     )\n",
      "File \u001b[1;32m~\\AppData\\Roaming\\jupyterlab-desktop\\jlab_server\\Lib\\site-packages\\sklearn\\tree\\_classes.py:472\u001b[0m, in \u001b[0;36mBaseDecisionTree._fit\u001b[1;34m(self, X, y, sample_weight, check_input, missing_values_in_feature_mask)\u001b[0m\n\u001b[0;32m    461\u001b[0m \u001b[38;5;28;01melse\u001b[39;00m:\n\u001b[0;32m    462\u001b[0m     builder \u001b[38;5;241m=\u001b[39m BestFirstTreeBuilder(\n\u001b[0;32m    463\u001b[0m         splitter,\n\u001b[0;32m    464\u001b[0m         min_samples_split,\n\u001b[1;32m   (...)\u001b[0m\n\u001b[0;32m    469\u001b[0m         \u001b[38;5;28mself\u001b[39m\u001b[38;5;241m.\u001b[39mmin_impurity_decrease,\n\u001b[0;32m    470\u001b[0m     )\n\u001b[1;32m--> 472\u001b[0m \u001b[43mbuilder\u001b[49m\u001b[38;5;241;43m.\u001b[39;49m\u001b[43mbuild\u001b[49m\u001b[43m(\u001b[49m\u001b[38;5;28;43mself\u001b[39;49m\u001b[38;5;241;43m.\u001b[39;49m\u001b[43mtree_\u001b[49m\u001b[43m,\u001b[49m\u001b[43m \u001b[49m\u001b[43mX\u001b[49m\u001b[43m,\u001b[49m\u001b[43m \u001b[49m\u001b[43my\u001b[49m\u001b[43m,\u001b[49m\u001b[43m \u001b[49m\u001b[43msample_weight\u001b[49m\u001b[43m,\u001b[49m\u001b[43m \u001b[49m\u001b[43mmissing_values_in_feature_mask\u001b[49m\u001b[43m)\u001b[49m\n\u001b[0;32m    474\u001b[0m \u001b[38;5;28;01mif\u001b[39;00m \u001b[38;5;28mself\u001b[39m\u001b[38;5;241m.\u001b[39mn_outputs_ \u001b[38;5;241m==\u001b[39m \u001b[38;5;241m1\u001b[39m \u001b[38;5;129;01mand\u001b[39;00m is_classifier(\u001b[38;5;28mself\u001b[39m):\n\u001b[0;32m    475\u001b[0m     \u001b[38;5;28mself\u001b[39m\u001b[38;5;241m.\u001b[39mn_classes_ \u001b[38;5;241m=\u001b[39m \u001b[38;5;28mself\u001b[39m\u001b[38;5;241m.\u001b[39mn_classes_[\u001b[38;5;241m0\u001b[39m]\n",
      "\u001b[1;31mKeyboardInterrupt\u001b[0m: "
     ]
    }
   ],
   "source": [
    "forest_grid.fit(X_train, y_train)\n",
    "xgb_grid.fit(X_train, y_train)"
   ]
  },
  {
   "cell_type": "markdown",
   "id": "488baaff-8c1a-460b-89c1-169f59d70e59",
   "metadata": {},
   "source": [
    "__Best Models__"
   ]
  },
  {
   "cell_type": "code",
   "execution_count": null,
   "id": "323426d7-8d22-4bd2-8b3d-8a189bbf0dce",
   "metadata": {},
   "outputs": [],
   "source": [
    "forest_best = forest_grid.best_estimator_\n",
    "xgb_best = xgb_grid.best_estimator_"
   ]
  },
  {
   "cell_type": "markdown",
   "id": "f3d304c6-0fb9-43f7-a740-03c9263d46fe",
   "metadata": {},
   "source": [
    "## Predict and evaluate the models"
   ]
  },
  {
   "cell_type": "markdown",
   "id": "a07a6eb3-16bb-41a7-b93a-0b4f88ff7ce3",
   "metadata": {},
   "source": [
    "*Function to evaluate models*"
   ]
  },
  {
   "cell_type": "code",
   "execution_count": null,
   "id": "1b28dd9f-521b-4f92-86c4-2ec0b61c11a4",
   "metadata": {},
   "outputs": [],
   "source": [
    "def evaluate_model(model, X_test, y_test):\n",
    "    y_pred = model.predict(X_test)\n",
    "    y_pred = np.expm1(y_pred)  # Inverse of log1p\n",
    "    rmse = np.sqrt(root_mean_squarred_error(np.expm1(y_test), y_pred))\n",
    "    r2 = re_score(np.expm1(y_test), y_pred)\n",
    "    return rmse, r2"
   ]
  },
  {
   "cell_type": "markdown",
   "id": "b30d9261-e46b-4572-a371-ed42409eddf6",
   "metadata": {},
   "source": [
    "*Evaluate models*"
   ]
  },
  {
   "cell_type": "code",
   "execution_count": null,
   "id": "efd50458-7a8b-481f-9aee-e1bc7f251e15",
   "metadata": {},
   "outputs": [],
   "source": [
    "forest_rmse, forest_r2 = evaluate_model(forest_best, X_test, y_test)\n",
    "xbg_rmse, xgb_r2 = evaluate_model(xgb_best, X_test, y_test)"
   ]
  },
  {
   "cell_type": "markdown",
   "id": "789aff43-dffd-4f55-b690-0acb9dd10ef3",
   "metadata": {},
   "source": [
    "### Display the Results of the GridSeachCV for Random Forest and eXtreme Gradient Boosting models"
   ]
  },
  {
   "cell_type": "code",
   "execution_count": null,
   "id": "857ecee0-431e-42a5-86d5-bc600626f936",
   "metadata": {},
   "outputs": [],
   "source": [
    "print('Random Forest Best Params: {forest_grid.best_params_}, RMSE: {forest_rmse}, R2: {forest_r2}')\n",
    "print('XGB Best Params: {xbg_grid.best_params}, RMSE: {xgb_rmse}, R2: {xgb_r2}')"
   ]
  }
 ],
 "metadata": {
  "kernelspec": {
   "display_name": "Python 3 (ipykernel)",
   "language": "python",
   "name": "python3"
  },
  "language_info": {
   "codemirror_mode": {
    "name": "ipython",
    "version": 3
   },
   "file_extension": ".py",
   "mimetype": "text/x-python",
   "name": "python",
   "nbconvert_exporter": "python",
   "pygments_lexer": "ipython3",
   "version": "3.12.2"
  }
 },
 "nbformat": 4,
 "nbformat_minor": 5
}
