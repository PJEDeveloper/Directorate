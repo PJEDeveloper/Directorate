{
 "cells": [
  {
   "cell_type": "markdown",
   "id": "581d9ab1-1284-40dd-afe7-fbe647af6d57",
   "metadata": {},
   "source": [
    "__Import Libraries__"
   ]
  },
  {
   "cell_type": "code",
   "execution_count": 1,
   "id": "eeddb6fb-cef4-49b1-97f9-7a2c8ec1f52f",
   "metadata": {},
   "outputs": [],
   "source": [
    "import pandas as pd\n",
    "import numpy as np\n",
    "from sklearn.preprocessing import OneHotEncoder, StandardScaler\n",
    "from sklearn.compose import ColumnTransformer\n",
    "from sklearn.model_selection import train_test_split\n",
    "from sklearn.decomposition import TruncatedSVD\n",
    "from sklearn.metrics import mean_squared_error\n",
    "from sklearn.pipeline import Pipeline\n",
    "from bqplot import Bars, Lines, LinearScale, DateScale, Axis, Figure, Layout\n",
    "from ipywidgets import VBox, HBox\n",
    "from sklearn.linear_model import LinearRegression, RidgeCV, LassoCV\n",
    "from sklearn.ensemble import RandomForestRegressor\n",
    "from sklearn.metrics import root_mean_squared_error, r2_score\n",
    "from sklearn.model_selection import GridSearchCV\n",
    "import xgboost as xgb"
   ]
  },
  {
   "cell_type": "markdown",
   "id": "ade2ff00-ace3-460b-8b49-7d6f148f6211",
   "metadata": {},
   "source": [
    "### Load Dataset from Zillow Home Value Index\n",
    "* Retrieved from https://www.zillow.com/research/data/\n",
    "* Data Type is Single-Family Homes Times Series ($) by county US wide"
   ]
  },
  {
   "cell_type": "code",
   "execution_count": 2,
   "id": "ae1a49c2-3ebd-4e40-a485-f69df92b5c31",
   "metadata": {},
   "outputs": [
    {
     "data": {
      "text/html": [
       "<div>\n",
       "<style scoped>\n",
       "    .dataframe tbody tr th:only-of-type {\n",
       "        vertical-align: middle;\n",
       "    }\n",
       "\n",
       "    .dataframe tbody tr th {\n",
       "        vertical-align: top;\n",
       "    }\n",
       "\n",
       "    .dataframe thead th {\n",
       "        text-align: right;\n",
       "    }\n",
       "</style>\n",
       "<table border=\"1\" class=\"dataframe\">\n",
       "  <thead>\n",
       "    <tr style=\"text-align: right;\">\n",
       "      <th></th>\n",
       "      <th>County &amp; State</th>\n",
       "      <th>1/31/2000</th>\n",
       "      <th>2/29/2000</th>\n",
       "      <th>3/31/2000</th>\n",
       "      <th>4/30/2000</th>\n",
       "      <th>5/31/2000</th>\n",
       "      <th>6/30/2000</th>\n",
       "      <th>7/31/2000</th>\n",
       "      <th>8/31/2000</th>\n",
       "      <th>9/30/2000</th>\n",
       "      <th>...</th>\n",
       "      <th>5/31/2023</th>\n",
       "      <th>6/30/2023</th>\n",
       "      <th>7/31/2023</th>\n",
       "      <th>8/31/2023</th>\n",
       "      <th>9/30/2023</th>\n",
       "      <th>10/31/2023</th>\n",
       "      <th>11/30/2023</th>\n",
       "      <th>12/31/2023</th>\n",
       "      <th>1/31/2024</th>\n",
       "      <th>2/29/2024</th>\n",
       "    </tr>\n",
       "  </thead>\n",
       "  <tbody>\n",
       "    <tr>\n",
       "      <th>0</th>\n",
       "      <td>Los Angeles County, CA</td>\n",
       "      <td>218109.6614</td>\n",
       "      <td>218351.9636</td>\n",
       "      <td>219253.9924</td>\n",
       "      <td>221034.2609</td>\n",
       "      <td>223301.9647</td>\n",
       "      <td>225478.4711</td>\n",
       "      <td>227678.6538</td>\n",
       "      <td>229942.9407</td>\n",
       "      <td>232027.3310</td>\n",
       "      <td>...</td>\n",
       "      <td>840773.8285</td>\n",
       "      <td>847854.1806</td>\n",
       "      <td>859394.2974</td>\n",
       "      <td>873560.9233</td>\n",
       "      <td>887641.7893</td>\n",
       "      <td>899129.9503</td>\n",
       "      <td>907716.4206</td>\n",
       "      <td>913122.6128</td>\n",
       "      <td>911973.7283</td>\n",
       "      <td>906790.4414</td>\n",
       "    </tr>\n",
       "    <tr>\n",
       "      <th>1</th>\n",
       "      <td>Cook County, IL</td>\n",
       "      <td>147964.6629</td>\n",
       "      <td>147921.7372</td>\n",
       "      <td>148148.3663</td>\n",
       "      <td>148818.4676</td>\n",
       "      <td>149663.9906</td>\n",
       "      <td>150546.8177</td>\n",
       "      <td>151356.5574</td>\n",
       "      <td>152568.0603</td>\n",
       "      <td>153990.8260</td>\n",
       "      <td>...</td>\n",
       "      <td>296293.3034</td>\n",
       "      <td>298020.2147</td>\n",
       "      <td>299950.9762</td>\n",
       "      <td>302194.0149</td>\n",
       "      <td>303945.6241</td>\n",
       "      <td>305305.3397</td>\n",
       "      <td>306242.5782</td>\n",
       "      <td>306888.8415</td>\n",
       "      <td>307391.7031</td>\n",
       "      <td>308718.4049</td>\n",
       "    </tr>\n",
       "    <tr>\n",
       "      <th>2</th>\n",
       "      <td>Harris County, TX</td>\n",
       "      <td>111394.1238</td>\n",
       "      <td>111358.8246</td>\n",
       "      <td>111187.7213</td>\n",
       "      <td>111118.3715</td>\n",
       "      <td>111092.1685</td>\n",
       "      <td>111286.1650</td>\n",
       "      <td>111488.0642</td>\n",
       "      <td>111789.0796</td>\n",
       "      <td>112181.9393</td>\n",
       "      <td>...</td>\n",
       "      <td>282318.3407</td>\n",
       "      <td>282960.6208</td>\n",
       "      <td>283744.4065</td>\n",
       "      <td>284559.2247</td>\n",
       "      <td>284896.4113</td>\n",
       "      <td>284939.7274</td>\n",
       "      <td>284693.0418</td>\n",
       "      <td>284411.8285</td>\n",
       "      <td>284527.6504</td>\n",
       "      <td>285006.6967</td>\n",
       "    </tr>\n",
       "    <tr>\n",
       "      <th>3</th>\n",
       "      <td>Maricopa County, AZ</td>\n",
       "      <td>147041.8392</td>\n",
       "      <td>147345.9207</td>\n",
       "      <td>147742.5134</td>\n",
       "      <td>148554.3669</td>\n",
       "      <td>149447.9413</td>\n",
       "      <td>150211.1292</td>\n",
       "      <td>150977.1668</td>\n",
       "      <td>151693.8225</td>\n",
       "      <td>152498.5159</td>\n",
       "      <td>...</td>\n",
       "      <td>461229.5436</td>\n",
       "      <td>463373.7563</td>\n",
       "      <td>466262.6341</td>\n",
       "      <td>469321.6095</td>\n",
       "      <td>471862.4581</td>\n",
       "      <td>474104.4184</td>\n",
       "      <td>475939.2821</td>\n",
       "      <td>476935.5727</td>\n",
       "      <td>477297.3014</td>\n",
       "      <td>477869.9382</td>\n",
       "    </tr>\n",
       "    <tr>\n",
       "      <th>4</th>\n",
       "      <td>San Diego County, CA</td>\n",
       "      <td>230036.4263</td>\n",
       "      <td>230951.6382</td>\n",
       "      <td>232047.8538</td>\n",
       "      <td>234522.8778</td>\n",
       "      <td>237169.8082</td>\n",
       "      <td>240508.5797</td>\n",
       "      <td>244335.7027</td>\n",
       "      <td>248525.5830</td>\n",
       "      <td>252462.3305</td>\n",
       "      <td>...</td>\n",
       "      <td>903768.2136</td>\n",
       "      <td>914304.4490</td>\n",
       "      <td>926825.9847</td>\n",
       "      <td>939717.6219</td>\n",
       "      <td>952202.7165</td>\n",
       "      <td>962435.9478</td>\n",
       "      <td>969407.6635</td>\n",
       "      <td>973071.9064</td>\n",
       "      <td>975520.7101</td>\n",
       "      <td>980746.2117</td>\n",
       "    </tr>\n",
       "  </tbody>\n",
       "</table>\n",
       "<p>5 rows × 291 columns</p>\n",
       "</div>"
      ],
      "text/plain": [
       "           County & State    1/31/2000    2/29/2000    3/31/2000    4/30/2000  \\\n",
       "0  Los Angeles County, CA  218109.6614  218351.9636  219253.9924  221034.2609   \n",
       "1         Cook County, IL  147964.6629  147921.7372  148148.3663  148818.4676   \n",
       "2       Harris County, TX  111394.1238  111358.8246  111187.7213  111118.3715   \n",
       "3     Maricopa County, AZ  147041.8392  147345.9207  147742.5134  148554.3669   \n",
       "4    San Diego County, CA  230036.4263  230951.6382  232047.8538  234522.8778   \n",
       "\n",
       "     5/31/2000    6/30/2000    7/31/2000    8/31/2000    9/30/2000  ...  \\\n",
       "0  223301.9647  225478.4711  227678.6538  229942.9407  232027.3310  ...   \n",
       "1  149663.9906  150546.8177  151356.5574  152568.0603  153990.8260  ...   \n",
       "2  111092.1685  111286.1650  111488.0642  111789.0796  112181.9393  ...   \n",
       "3  149447.9413  150211.1292  150977.1668  151693.8225  152498.5159  ...   \n",
       "4  237169.8082  240508.5797  244335.7027  248525.5830  252462.3305  ...   \n",
       "\n",
       "     5/31/2023    6/30/2023    7/31/2023    8/31/2023    9/30/2023  \\\n",
       "0  840773.8285  847854.1806  859394.2974  873560.9233  887641.7893   \n",
       "1  296293.3034  298020.2147  299950.9762  302194.0149  303945.6241   \n",
       "2  282318.3407  282960.6208  283744.4065  284559.2247  284896.4113   \n",
       "3  461229.5436  463373.7563  466262.6341  469321.6095  471862.4581   \n",
       "4  903768.2136  914304.4490  926825.9847  939717.6219  952202.7165   \n",
       "\n",
       "    10/31/2023   11/30/2023   12/31/2023    1/31/2024    2/29/2024  \n",
       "0  899129.9503  907716.4206  913122.6128  911973.7283  906790.4414  \n",
       "1  305305.3397  306242.5782  306888.8415  307391.7031  308718.4049  \n",
       "2  284939.7274  284693.0418  284411.8285  284527.6504  285006.6967  \n",
       "3  474104.4184  475939.2821  476935.5727  477297.3014  477869.9382  \n",
       "4  962435.9478  969407.6635  973071.9064  975520.7101  980746.2117  \n",
       "\n",
       "[5 rows x 291 columns]"
      ]
     },
     "execution_count": 2,
     "metadata": {},
     "output_type": "execute_result"
    }
   ],
   "source": [
    "# Load the dataset\n",
    "file_path = 'County_zhvi_uc_sfr_tier_0.33_0.67_sm_sa_month_v2.csv'\n",
    "data = pd.read_csv(file_path)\n",
    "\n",
    "# Displaying the first few rows of the dataset to understand its structure\n",
    "data.head()"
   ]
  },
  {
   "cell_type": "markdown",
   "id": "8cc4d841-d3ba-44f9-89ff-f7ee6e584c35",
   "metadata": {},
   "source": [
    "## Process and Transform Data"
   ]
  },
  {
   "cell_type": "markdown",
   "id": "d9c4013c-c526-4d14-b53a-dccfd5a75c37",
   "metadata": {},
   "source": [
    "*Transform the data from wide to a long format using the melt function so that each row represent an individual observation in the time series data*"
   ]
  },
  {
   "cell_type": "code",
   "execution_count": 3,
   "id": "e7b9ca91-5ea6-42fe-b6b3-fd27126e2528",
   "metadata": {},
   "outputs": [],
   "source": [
    "data_long = data.melt(id_vars=['County & State'], var_name='Date', value_name='MedianHousePrice')"
   ]
  },
  {
   "cell_type": "code",
   "execution_count": 4,
   "id": "f3122c00-9982-4fa3-a87c-c1787f2ba24d",
   "metadata": {},
   "outputs": [
    {
     "data": {
      "text/html": [
       "<div>\n",
       "<style scoped>\n",
       "    .dataframe tbody tr th:only-of-type {\n",
       "        vertical-align: middle;\n",
       "    }\n",
       "\n",
       "    .dataframe tbody tr th {\n",
       "        vertical-align: top;\n",
       "    }\n",
       "\n",
       "    .dataframe thead th {\n",
       "        text-align: right;\n",
       "    }\n",
       "</style>\n",
       "<table border=\"1\" class=\"dataframe\">\n",
       "  <thead>\n",
       "    <tr style=\"text-align: right;\">\n",
       "      <th></th>\n",
       "      <th>County &amp; State</th>\n",
       "      <th>Date</th>\n",
       "      <th>MedianHousePrice</th>\n",
       "    </tr>\n",
       "  </thead>\n",
       "  <tbody>\n",
       "    <tr>\n",
       "      <th>0</th>\n",
       "      <td>Los Angeles County, CA</td>\n",
       "      <td>1/31/2000</td>\n",
       "      <td>218109.6614</td>\n",
       "    </tr>\n",
       "    <tr>\n",
       "      <th>1</th>\n",
       "      <td>Cook County, IL</td>\n",
       "      <td>1/31/2000</td>\n",
       "      <td>147964.6629</td>\n",
       "    </tr>\n",
       "    <tr>\n",
       "      <th>2</th>\n",
       "      <td>Harris County, TX</td>\n",
       "      <td>1/31/2000</td>\n",
       "      <td>111394.1238</td>\n",
       "    </tr>\n",
       "    <tr>\n",
       "      <th>3</th>\n",
       "      <td>Maricopa County, AZ</td>\n",
       "      <td>1/31/2000</td>\n",
       "      <td>147041.8392</td>\n",
       "    </tr>\n",
       "    <tr>\n",
       "      <th>4</th>\n",
       "      <td>San Diego County, CA</td>\n",
       "      <td>1/31/2000</td>\n",
       "      <td>230036.4263</td>\n",
       "    </tr>\n",
       "  </tbody>\n",
       "</table>\n",
       "</div>"
      ],
      "text/plain": [
       "           County & State       Date  MedianHousePrice\n",
       "0  Los Angeles County, CA  1/31/2000       218109.6614\n",
       "1         Cook County, IL  1/31/2000       147964.6629\n",
       "2       Harris County, TX  1/31/2000       111394.1238\n",
       "3     Maricopa County, AZ  1/31/2000       147041.8392\n",
       "4    San Diego County, CA  1/31/2000       230036.4263"
      ]
     },
     "execution_count": 4,
     "metadata": {},
     "output_type": "execute_result"
    }
   ],
   "source": [
    "data_long.head()"
   ]
  },
  {
   "cell_type": "markdown",
   "id": "fae91dd5-d5c1-4dd4-a9ae-456ab5d9dddb",
   "metadata": {},
   "source": [
    "*Convert the **Date** column to a datetime type*"
   ]
  },
  {
   "cell_type": "code",
   "execution_count": 5,
   "id": "34f406d8-bf2b-4d6d-bca5-a9e9ddb99460",
   "metadata": {},
   "outputs": [],
   "source": [
    "data_long['Date'] = pd.to_datetime(data_long['Date'], format='%m/%d/%Y')"
   ]
  },
  {
   "cell_type": "markdown",
   "id": "51091c21-b73f-47dd-a9d2-73b80463be2d",
   "metadata": {},
   "source": [
    "*Split County & State feature into two feature columns*"
   ]
  },
  {
   "cell_type": "code",
   "execution_count": 6,
   "id": "124aa309-0db3-400d-8adb-4aa228e9d9c5",
   "metadata": {},
   "outputs": [],
   "source": [
    "data_long[['County', 'State']] = data_long['County & State'].str.split(', ', expand=True)"
   ]
  },
  {
   "cell_type": "code",
   "execution_count": 7,
   "id": "d01d3e05-d02b-443c-89a5-13c9c9b3bb87",
   "metadata": {},
   "outputs": [
    {
     "data": {
      "text/html": [
       "<div>\n",
       "<style scoped>\n",
       "    .dataframe tbody tr th:only-of-type {\n",
       "        vertical-align: middle;\n",
       "    }\n",
       "\n",
       "    .dataframe tbody tr th {\n",
       "        vertical-align: top;\n",
       "    }\n",
       "\n",
       "    .dataframe thead th {\n",
       "        text-align: right;\n",
       "    }\n",
       "</style>\n",
       "<table border=\"1\" class=\"dataframe\">\n",
       "  <thead>\n",
       "    <tr style=\"text-align: right;\">\n",
       "      <th></th>\n",
       "      <th>County &amp; State</th>\n",
       "      <th>Date</th>\n",
       "      <th>MedianHousePrice</th>\n",
       "      <th>County</th>\n",
       "      <th>State</th>\n",
       "    </tr>\n",
       "  </thead>\n",
       "  <tbody>\n",
       "    <tr>\n",
       "      <th>0</th>\n",
       "      <td>Los Angeles County, CA</td>\n",
       "      <td>2000-01-31</td>\n",
       "      <td>218109.6614</td>\n",
       "      <td>Los Angeles County</td>\n",
       "      <td>CA</td>\n",
       "    </tr>\n",
       "    <tr>\n",
       "      <th>1</th>\n",
       "      <td>Cook County, IL</td>\n",
       "      <td>2000-01-31</td>\n",
       "      <td>147964.6629</td>\n",
       "      <td>Cook County</td>\n",
       "      <td>IL</td>\n",
       "    </tr>\n",
       "    <tr>\n",
       "      <th>2</th>\n",
       "      <td>Harris County, TX</td>\n",
       "      <td>2000-01-31</td>\n",
       "      <td>111394.1238</td>\n",
       "      <td>Harris County</td>\n",
       "      <td>TX</td>\n",
       "    </tr>\n",
       "    <tr>\n",
       "      <th>3</th>\n",
       "      <td>Maricopa County, AZ</td>\n",
       "      <td>2000-01-31</td>\n",
       "      <td>147041.8392</td>\n",
       "      <td>Maricopa County</td>\n",
       "      <td>AZ</td>\n",
       "    </tr>\n",
       "    <tr>\n",
       "      <th>4</th>\n",
       "      <td>San Diego County, CA</td>\n",
       "      <td>2000-01-31</td>\n",
       "      <td>230036.4263</td>\n",
       "      <td>San Diego County</td>\n",
       "      <td>CA</td>\n",
       "    </tr>\n",
       "  </tbody>\n",
       "</table>\n",
       "</div>"
      ],
      "text/plain": [
       "           County & State       Date  MedianHousePrice              County  \\\n",
       "0  Los Angeles County, CA 2000-01-31       218109.6614  Los Angeles County   \n",
       "1         Cook County, IL 2000-01-31       147964.6629         Cook County   \n",
       "2       Harris County, TX 2000-01-31       111394.1238       Harris County   \n",
       "3     Maricopa County, AZ 2000-01-31       147041.8392     Maricopa County   \n",
       "4    San Diego County, CA 2000-01-31       230036.4263    San Diego County   \n",
       "\n",
       "  State  \n",
       "0    CA  \n",
       "1    IL  \n",
       "2    TX  \n",
       "3    AZ  \n",
       "4    CA  "
      ]
     },
     "execution_count": 7,
     "metadata": {},
     "output_type": "execute_result"
    }
   ],
   "source": [
    "data_long.head()"
   ]
  },
  {
   "cell_type": "markdown",
   "id": "aab0f25d-e07e-4e55-8f18-aef73adaed1f",
   "metadata": {},
   "source": [
    "*Drop the original County & State feature column*"
   ]
  },
  {
   "cell_type": "code",
   "execution_count": 8,
   "id": "3b63c1bd-a205-4af3-911e-c7d673ef115d",
   "metadata": {},
   "outputs": [],
   "source": [
    "data_long = data_long.drop('County & State', axis=1)"
   ]
  },
  {
   "cell_type": "code",
   "execution_count": 9,
   "id": "e13c84ff-79fd-4dbe-b390-b721ec185b2d",
   "metadata": {},
   "outputs": [
    {
     "data": {
      "text/html": [
       "<div>\n",
       "<style scoped>\n",
       "    .dataframe tbody tr th:only-of-type {\n",
       "        vertical-align: middle;\n",
       "    }\n",
       "\n",
       "    .dataframe tbody tr th {\n",
       "        vertical-align: top;\n",
       "    }\n",
       "\n",
       "    .dataframe thead th {\n",
       "        text-align: right;\n",
       "    }\n",
       "</style>\n",
       "<table border=\"1\" class=\"dataframe\">\n",
       "  <thead>\n",
       "    <tr style=\"text-align: right;\">\n",
       "      <th></th>\n",
       "      <th>Date</th>\n",
       "      <th>MedianHousePrice</th>\n",
       "      <th>County</th>\n",
       "      <th>State</th>\n",
       "    </tr>\n",
       "  </thead>\n",
       "  <tbody>\n",
       "    <tr>\n",
       "      <th>0</th>\n",
       "      <td>2000-01-31</td>\n",
       "      <td>218109.6614</td>\n",
       "      <td>Los Angeles County</td>\n",
       "      <td>CA</td>\n",
       "    </tr>\n",
       "    <tr>\n",
       "      <th>1</th>\n",
       "      <td>2000-01-31</td>\n",
       "      <td>147964.6629</td>\n",
       "      <td>Cook County</td>\n",
       "      <td>IL</td>\n",
       "    </tr>\n",
       "    <tr>\n",
       "      <th>2</th>\n",
       "      <td>2000-01-31</td>\n",
       "      <td>111394.1238</td>\n",
       "      <td>Harris County</td>\n",
       "      <td>TX</td>\n",
       "    </tr>\n",
       "    <tr>\n",
       "      <th>3</th>\n",
       "      <td>2000-01-31</td>\n",
       "      <td>147041.8392</td>\n",
       "      <td>Maricopa County</td>\n",
       "      <td>AZ</td>\n",
       "    </tr>\n",
       "    <tr>\n",
       "      <th>4</th>\n",
       "      <td>2000-01-31</td>\n",
       "      <td>230036.4263</td>\n",
       "      <td>San Diego County</td>\n",
       "      <td>CA</td>\n",
       "    </tr>\n",
       "  </tbody>\n",
       "</table>\n",
       "</div>"
      ],
      "text/plain": [
       "        Date  MedianHousePrice              County State\n",
       "0 2000-01-31       218109.6614  Los Angeles County    CA\n",
       "1 2000-01-31       147964.6629         Cook County    IL\n",
       "2 2000-01-31       111394.1238       Harris County    TX\n",
       "3 2000-01-31       147041.8392     Maricopa County    AZ\n",
       "4 2000-01-31       230036.4263    San Diego County    CA"
      ]
     },
     "execution_count": 9,
     "metadata": {},
     "output_type": "execute_result"
    }
   ],
   "source": [
    "data_long.head()"
   ]
  },
  {
   "cell_type": "markdown",
   "id": "519f7d2d-dced-4f51-84df-ba081869117c",
   "metadata": {},
   "source": [
    "__Check for missing values in the MedianHousePrice colum__"
   ]
  },
  {
   "cell_type": "code",
   "execution_count": 10,
   "id": "a62cc543-dd70-43b3-956d-c95d1cfab410",
   "metadata": {},
   "outputs": [
    {
     "data": {
      "text/plain": [
       "(274895, 30.81644320882472)"
      ]
     },
     "execution_count": 10,
     "metadata": {},
     "output_type": "execute_result"
    }
   ],
   "source": [
    "missing_values = data_long['MedianHousePrice'].isnull().sum()\n",
    "total_values = len(data_long['MedianHousePrice'])\n",
    "missing_percentage = (missing_values / total_values) * 100\n",
    "missing_values, missing_percentage"
   ]
  },
  {
   "cell_type": "markdown",
   "id": "d4ea03d5-2907-4c38-8091-bcbfebb73641",
   "metadata": {},
   "source": [
    "*Function to apply a 5.3% deflation rate to back fill in missing MedianHousePrice value in time series data*"
   ]
  },
  {
   "cell_type": "code",
   "execution_count": 11,
   "id": "b7778ec5-e98c-4d2b-9918-baa2bbf5719a",
   "metadata": {},
   "outputs": [
    {
     "data": {
      "text/html": [
       "<div>\n",
       "<style scoped>\n",
       "    .dataframe tbody tr th:only-of-type {\n",
       "        vertical-align: middle;\n",
       "    }\n",
       "\n",
       "    .dataframe tbody tr th {\n",
       "        vertical-align: top;\n",
       "    }\n",
       "\n",
       "    .dataframe thead th {\n",
       "        text-align: right;\n",
       "    }\n",
       "</style>\n",
       "<table border=\"1\" class=\"dataframe\">\n",
       "  <thead>\n",
       "    <tr style=\"text-align: right;\">\n",
       "      <th></th>\n",
       "      <th>Date</th>\n",
       "      <th>MedianHousePrice</th>\n",
       "      <th>County</th>\n",
       "      <th>State</th>\n",
       "    </tr>\n",
       "  </thead>\n",
       "  <tbody>\n",
       "    <tr>\n",
       "      <th>0</th>\n",
       "      <td>2000-01-31</td>\n",
       "      <td>218109.6614</td>\n",
       "      <td>Los Angeles County</td>\n",
       "      <td>CA</td>\n",
       "    </tr>\n",
       "    <tr>\n",
       "      <th>4</th>\n",
       "      <td>2000-01-31</td>\n",
       "      <td>230036.4263</td>\n",
       "      <td>San Diego County</td>\n",
       "      <td>CA</td>\n",
       "    </tr>\n",
       "    <tr>\n",
       "      <th>5</th>\n",
       "      <td>2000-01-31</td>\n",
       "      <td>277067.9505</td>\n",
       "      <td>Orange County</td>\n",
       "      <td>CA</td>\n",
       "    </tr>\n",
       "    <tr>\n",
       "      <th>6</th>\n",
       "      <td>2000-01-31</td>\n",
       "      <td>212436.6870</td>\n",
       "      <td>Kings County</td>\n",
       "      <td>NY</td>\n",
       "    </tr>\n",
       "    <tr>\n",
       "      <th>7</th>\n",
       "      <td>2000-01-31</td>\n",
       "      <td>127448.7814</td>\n",
       "      <td>Miami-Dade County</td>\n",
       "      <td>FL</td>\n",
       "    </tr>\n",
       "  </tbody>\n",
       "</table>\n",
       "</div>"
      ],
      "text/plain": [
       "        Date  MedianHousePrice              County State\n",
       "0 2000-01-31       218109.6614  Los Angeles County    CA\n",
       "4 2000-01-31       230036.4263    San Diego County    CA\n",
       "5 2000-01-31       277067.9505       Orange County    CA\n",
       "6 2000-01-31       212436.6870        Kings County    NY\n",
       "7 2000-01-31       127448.7814   Miami-Dade County    FL"
      ]
     },
     "execution_count": 11,
     "metadata": {},
     "output_type": "execute_result"
    }
   ],
   "source": [
    "def apply_deflation(data, deflation_rate=0.053):\n",
    "    \"\"\"\n",
    "    Apply deflation to fill in missing values in the time series data.\n",
    "    We work backwards using a deflation factor.\n",
    "\n",
    "    :param data: DataFrame with Date, MedianHousePrice columns\n",
    "    :param deflation_rate: Deflation rate to be applied\n",
    "    :return: DataFrame with imputed values\n",
    "    \"\"\"\n",
    "    # Sorting the data in reverse chronological order for backward filling\n",
    "    data = data.sort_values(by='Date', ascending=False)\n",
    "\n",
    "    # Iterate through the DataFrame\n",
    "    for i in range(1, len(data)):\n",
    "        # If current value is missing and the previous value is present\n",
    "        if pd.isna(data.iloc[i]['MedianHousePrice']) and not pd.isna(data.iloc[i - 1]['MedianHousePrice']):\n",
    "            # Calculate the number of months between the dates\n",
    "            months_diff = (data.iloc[i - 1]['Date'].year - data.iloc[i]['Date'].year) * 12 + \\\n",
    "                          data.iloc[i - 1]['Date'].month - data.iloc[i]['Date'].month\n",
    "\n",
    "            # Apply deflation formula\n",
    "            estimated_price = data.iloc[i - 1]['MedianHousePrice'] / ((1 + deflation_rate) ** months_diff)\n",
    "            data.at[i, 'MedianHousePrice'] = estimated_price\n",
    "\n",
    "    # Sorting the data back to its original chronological order\n",
    "    data = data.sort_values(by='Date', ascending=True)\n",
    "    return data\n",
    "\n",
    "# Apply the deflation function to the data\n",
    "data_deflated = apply_deflation(data_long)\n",
    "\n",
    "# Display the first few rows to verify the changes\n",
    "data_deflated.head()\n"
   ]
  },
  {
   "cell_type": "markdown",
   "id": "901469df-1289-4093-b4cc-6536bac36c7f",
   "metadata": {},
   "source": [
    "__Check for missing values in the MedianHousePrice colum__"
   ]
  },
  {
   "cell_type": "code",
   "execution_count": 12,
   "id": "accbe762-4914-450b-ac84-7ed48d7ca616",
   "metadata": {},
   "outputs": [
    {
     "data": {
      "text/plain": [
       "(255918, 28.689072238913056)"
      ]
     },
     "execution_count": 12,
     "metadata": {},
     "output_type": "execute_result"
    }
   ],
   "source": [
    "missing_values = data_deflated['MedianHousePrice'].isnull().sum()\n",
    "total_values = len(data_deflated['MedianHousePrice'])\n",
    "missing_percentage = (missing_values / total_values) * 100\n",
    "missing_values, missing_percentage"
   ]
  },
  {
   "cell_type": "markdown",
   "id": "0665c18a-5349-4db3-a3f9-2ba8fbfe90db",
   "metadata": {},
   "source": [
    "*Function to apply a 5.3% deflation rate to forward fill in missing MedianHousePrice value in time series data*"
   ]
  },
  {
   "cell_type": "code",
   "execution_count": 13,
   "id": "b72929f1-70af-4aa9-8add-363e16e63678",
   "metadata": {},
   "outputs": [],
   "source": [
    "def apply_inflation(data, inflation_rate=0.053):\n",
    "    \"\"\"\n",
    "    Apply inflation to fill in missing values in the time series data.\n",
    "    We work forward using an inflation factor.\n",
    "\n",
    "    :param data: DataFrame with Date, MedianHousePrice columns\n",
    "    :param inflation_rate: Inflation rate to be applied\n",
    "    :return: DataFrame with imputed values\n",
    "    \"\"\"\n",
    "    # Sorting the data in chronological order for forward filling\n",
    "    data = data.sort_values(by='Date', ascending=True)\n",
    "\n",
    "    # Iterate through the DataFrame\n",
    "    for i in range(len(data) - 1):\n",
    "        # If current value is missing and the previous value is present\n",
    "        if pd.isna(data.iloc[i]['MedianHousePrice']) and not pd.isna(data.iloc[i + 1]['MedianHousePrice']):\n",
    "            # Calculate the number of months between the dates\n",
    "            months_diff = (data.iloc[i + 1]['Date'].year - data.iloc[i]['Date'].year) * 12 + \\\n",
    "                          data.iloc[i + 1]['Date'].month - data.iloc[i]['Date'].month\n",
    "\n",
    "            # Apply inflation formula\n",
    "            estimated_price = data.iloc[i + 1]['MedianHousePrice'] * ((1 + inflation_rate) ** months_diff)\n",
    "            data.at[i, 'MedianHousePrice'] = estimated_price\n",
    "\n",
    "    return data\n",
    "\n",
    "# Apply the inflation function to the data\n",
    "data_inflated = apply_inflation(data_deflated)"
   ]
  },
  {
   "cell_type": "markdown",
   "id": "ca7116b7-5920-4982-b037-8f242482e818",
   "metadata": {},
   "source": [
    "__Check for missing values in the MedianHousePrice colum__"
   ]
  },
  {
   "cell_type": "code",
   "execution_count": 14,
   "id": "8887e486-be69-4daa-860d-5b37fe2cc077",
   "metadata": {},
   "outputs": [
    {
     "data": {
      "text/plain": [
       "(214618, 24.059235011882876)"
      ]
     },
     "execution_count": 14,
     "metadata": {},
     "output_type": "execute_result"
    }
   ],
   "source": [
    "# Check for missing values again after applying inflation\n",
    "missing_values_after_inflation = data_inflated['MedianHousePrice'].isnull().sum()\n",
    "total_values = len(data_inflated['MedianHousePrice'])\n",
    "missing_percentage_after_inflation = (missing_values_after_inflation / total_values) * 100\n",
    "\n",
    "missing_values_after_inflation, missing_percentage_after_inflation"
   ]
  },
  {
   "cell_type": "markdown",
   "id": "02e509c8-c226-4894-be4a-45c1d58bf755",
   "metadata": {},
   "source": [
    "__Exclude missing values from dataset__"
   ]
  },
  {
   "cell_type": "markdown",
   "id": "b632c5e0-15b5-4727-987c-a47002ecdea5",
   "metadata": {},
   "source": [
    "*Group data by Date, County, and State and calculate missing data percentage*"
   ]
  },
  {
   "cell_type": "code",
   "execution_count": 15,
   "id": "51fc203d-2872-4ebd-a847-c86de7e4391c",
   "metadata": {},
   "outputs": [],
   "source": [
    "grouped_data = data_inflated.groupby(['Date', 'County', 'State']).agg(Total=('MedianHousePrice', 'count'), Missing=('MedianHousePrice', 'sum'))\n",
    "grouped_data['Missing_Percentage'] = (grouped_data['Missing'] / grouped_data['Total']) * 100"
   ]
  },
  {
   "cell_type": "markdown",
   "id": "a77c0af9-e953-49e0-a1ec-18750a68f237",
   "metadata": {},
   "source": [
    "*Identify highly imcomplete segements*"
   ]
  },
  {
   "cell_type": "code",
   "execution_count": 16,
   "id": "6b06d776-a312-448e-9c1d-0c3872a389a3",
   "metadata": {},
   "outputs": [],
   "source": [
    "threshold = 0.01 # threshold percentage\n",
    "incomplete_segments = grouped_data[grouped_data['Missing_Percentage'] > threshold]"
   ]
  },
  {
   "cell_type": "markdown",
   "id": "d9363cc7-9cd1-413f-8b3b-b5ff5aa71a9d",
   "metadata": {},
   "source": [
    "*Identify dates and regions to exclued*"
   ]
  },
  {
   "cell_type": "code",
   "execution_count": 17,
   "id": "beca1622-2e20-47f5-993c-acb3f0e93795",
   "metadata": {},
   "outputs": [],
   "source": [
    "dates_to_exclude = incomplete_segments.index.get_level_values('Date').unique()\n",
    "counties_to_exclude = incomplete_segments.index.get_level_values('County').unique()\n",
    "states_to_exclude = incomplete_segments.index.get_level_values('State').unique()"
   ]
  },
  {
   "cell_type": "markdown",
   "id": "1c9140ed-8e3c-4f9d-a78c-4655aa863d1b",
   "metadata": {},
   "source": [
    "*Filter out the highly incomplete data*"
   ]
  },
  {
   "cell_type": "code",
   "execution_count": 18,
   "id": "15498a15-563b-4b24-8231-39ecd72c087b",
   "metadata": {},
   "outputs": [],
   "source": [
    "filtered_data = data_inflated[~((data_inflated['Date'].isin(dates_to_exclude)) &\n",
    "                               (data_inflated['County'].isin(counties_to_exclude)) &\n",
    "                               (data_inflated['State'].isin(states_to_exclude)))]"
   ]
  },
  {
   "cell_type": "markdown",
   "id": "9d66345b-52f5-4d12-8afc-67c6e4e847da",
   "metadata": {},
   "source": [
    "*Visulize data and check new shape*"
   ]
  },
  {
   "cell_type": "code",
   "execution_count": 19,
   "id": "94d9c5cc-cd9f-4c2f-8ad9-0dd4fad05c31",
   "metadata": {},
   "outputs": [
    {
     "data": {
      "text/plain": [
       "(0, 4)"
      ]
     },
     "execution_count": 19,
     "metadata": {},
     "output_type": "execute_result"
    }
   ],
   "source": [
    "filtered_data.shape"
   ]
  },
  {
   "cell_type": "markdown",
   "id": "ce46b12c-e31e-410f-998e-73a4c8fedc58",
   "metadata": {},
   "source": [
    "__Missing data cannot be excluded from dataset__\n",
    "* Instead linear interpolation will be used to fill in missing data points"
   ]
  },
  {
   "cell_type": "code",
   "execution_count": 20,
   "id": "4194a837-99f9-4f8a-ab36-834e8df1e93d",
   "metadata": {},
   "outputs": [],
   "source": [
    "data_inflated_sorted = data_inflated.sort_values(by='Date') # Sort dataset by date"
   ]
  },
  {
   "cell_type": "markdown",
   "id": "0b5ec070-50b6-4d25-b7c1-9928ec9771af",
   "metadata": {},
   "source": [
    "*Set Date feature column as the index of the DataFrame*"
   ]
  },
  {
   "cell_type": "code",
   "execution_count": 21,
   "id": "fbc327eb-9698-4352-a47b-a39447acb1f3",
   "metadata": {},
   "outputs": [],
   "source": [
    "data_inflated_sorted.set_index('Date', inplace=True)"
   ]
  },
  {
   "cell_type": "markdown",
   "id": "8fb90ea5-950a-4c96-9681-c0029bd13684",
   "metadata": {},
   "source": [
    "*Isolate the MedianHousePrice feature column for interpolation*"
   ]
  },
  {
   "cell_type": "code",
   "execution_count": 22,
   "id": "1a32d219-20de-4754-8e47-c5ad03301c36",
   "metadata": {},
   "outputs": [],
   "source": [
    "median_house_price = data_inflated_sorted['MedianHousePrice']"
   ]
  },
  {
   "cell_type": "markdown",
   "id": "b8817bfb-c27c-469e-90b5-0c39691a4902",
   "metadata": {},
   "source": [
    "*Apply linear Interpolation*"
   ]
  },
  {
   "cell_type": "code",
   "execution_count": 23,
   "id": "d6c93b71-9610-44b2-831d-9b408c49faaf",
   "metadata": {},
   "outputs": [],
   "source": [
    "interpolated_values = median_house_price.interpolate(method='linear')"
   ]
  },
  {
   "cell_type": "markdown",
   "id": "f63e7d25-c3ac-446a-8b8a-ee0a7d55e643",
   "metadata": {},
   "source": [
    "*Merge the interpolated values back into the orignial DataFrame*"
   ]
  },
  {
   "cell_type": "code",
   "execution_count": 24,
   "id": "7a115970-6236-4d50-ae1a-9e0b82e326d5",
   "metadata": {},
   "outputs": [],
   "source": [
    "data_inflated_sorted['MedianHousePrice'] = interpolated_values"
   ]
  },
  {
   "cell_type": "markdown",
   "id": "c1a4e799-d5c1-47c6-bd8a-e4cf1914d693",
   "metadata": {},
   "source": [
    "*Reset the index*"
   ]
  },
  {
   "cell_type": "code",
   "execution_count": 25,
   "id": "ea981155-015e-436a-befd-053a3bf88d98",
   "metadata": {},
   "outputs": [],
   "source": [
    "data_interpolated = data_inflated_sorted.reset_index()"
   ]
  },
  {
   "cell_type": "markdown",
   "id": "2d537d89-a25d-4155-989f-b3250e0c8526",
   "metadata": {},
   "source": [
    "*Check for remaining missing values*"
   ]
  },
  {
   "cell_type": "code",
   "execution_count": 26,
   "id": "a5e7fabf-058e-451a-a4fb-bc2fae3026e4",
   "metadata": {},
   "outputs": [
    {
     "data": {
      "text/plain": [
       "(0, 0.0)"
      ]
     },
     "execution_count": 26,
     "metadata": {},
     "output_type": "execute_result"
    }
   ],
   "source": [
    "remaining_missing_values = data_interpolated['MedianHousePrice'].isnull().sum()\n",
    "remaining_missing_percentage = (remaining_missing_values / len(data_interpolated)) * 100\n",
    "\n",
    "remaining_missing_values, remaining_missing_percentage"
   ]
  },
  {
   "cell_type": "markdown",
   "id": "23826e66-710e-4b93-b17f-19c7e49d4018",
   "metadata": {},
   "source": [
    "## Feature Engineering to enhance data for effective modeling"
   ]
  },
  {
   "cell_type": "markdown",
   "id": "81fe7ca7-a384-4cff-a2af-28ee04c8fd6c",
   "metadata": {},
   "source": [
    "__Extracting Year and Month__\n",
    "* This will help the models to understand and leverage seasonal trends and year-over-year changes in house prices"
   ]
  },
  {
   "cell_type": "code",
   "execution_count": 27,
   "id": "e9150253-9943-491a-8cb7-b0fac2fff4f6",
   "metadata": {},
   "outputs": [],
   "source": [
    "data_interpolated['Year'] = data_interpolated['Date'].dt.year # Extract Year from the Date column\n",
    "data_interpolated['Month'] = data_interpolated['Date'].dt.month # Extract Month from the Date column"
   ]
  },
  {
   "cell_type": "markdown",
   "id": "b6d9fedc-c641-4c18-94aa-edf1d7139182",
   "metadata": {},
   "source": [
    "__Creating Lagged Features__\n",
    "* Past values of variables, such as previous month's house price\n",
    "* These are informative in time series forecasting, as they allow models to learn from the historical trends"
   ]
  },
  {
   "cell_type": "code",
   "execution_count": 28,
   "id": "0cf576f1-96d7-4d56-ae1e-a43be07adbc0",
   "metadata": {},
   "outputs": [],
   "source": [
    "for lag in [1, 3, 6]:\n",
    "    data_interpolated[f'Lag_{lag}_Month'] = data_interpolated['MedianHousePrice'].shift(lag)"
   ]
  },
  {
   "cell_type": "markdown",
   "id": "39c6022a-2dac-497c-a93d-369f1758744f",
   "metadata": {},
   "source": [
    "__Drop missing values created by Lagging process__\n",
    "* Dropping rows with missing lagged values, since they are a small portion of dataset"
   ]
  },
  {
   "cell_type": "code",
   "execution_count": 29,
   "id": "1f580c98-bbe2-44cf-83a4-b7452555c7aa",
   "metadata": {},
   "outputs": [],
   "source": [
    "data_interpolated.dropna(subset=[f'Lag_{lag}_Month' for lag in [1, 3, 6]], inplace=True)"
   ]
  },
  {
   "cell_type": "code",
   "execution_count": 30,
   "id": "ad223af3-07ce-4bcf-ab8e-dfa884881078",
   "metadata": {},
   "outputs": [
    {
     "data": {
      "text/plain": [
       "(0, 0.0)"
      ]
     },
     "execution_count": 30,
     "metadata": {},
     "output_type": "execute_result"
    }
   ],
   "source": [
    "remaining_missing_values = data_interpolated['MedianHousePrice'].isnull().sum()\n",
    "remaining_missing_percentage = (remaining_missing_values / len(data_interpolated)) * 100\n",
    "\n",
    "remaining_missing_values, remaining_missing_percentage"
   ]
  },
  {
   "cell_type": "code",
   "execution_count": 31,
   "id": "4c53ca77-9e77-4851-bffa-3cc648587717",
   "metadata": {},
   "outputs": [
    {
     "data": {
      "text/html": [
       "<div>\n",
       "<style scoped>\n",
       "    .dataframe tbody tr th:only-of-type {\n",
       "        vertical-align: middle;\n",
       "    }\n",
       "\n",
       "    .dataframe tbody tr th {\n",
       "        vertical-align: top;\n",
       "    }\n",
       "\n",
       "    .dataframe thead th {\n",
       "        text-align: right;\n",
       "    }\n",
       "</style>\n",
       "<table border=\"1\" class=\"dataframe\">\n",
       "  <thead>\n",
       "    <tr style=\"text-align: right;\">\n",
       "      <th></th>\n",
       "      <th>Date</th>\n",
       "      <th>MedianHousePrice</th>\n",
       "      <th>County</th>\n",
       "      <th>State</th>\n",
       "      <th>Year</th>\n",
       "      <th>Month</th>\n",
       "      <th>Lag_1_Month</th>\n",
       "      <th>Lag_3_Month</th>\n",
       "      <th>Lag_6_Month</th>\n",
       "    </tr>\n",
       "  </thead>\n",
       "  <tbody>\n",
       "    <tr>\n",
       "      <th>6</th>\n",
       "      <td>2000-01-31</td>\n",
       "      <td>96184.65994</td>\n",
       "      <td>Dallas County</td>\n",
       "      <td>TX</td>\n",
       "      <td>2000</td>\n",
       "      <td>1</td>\n",
       "      <td>127448.78140</td>\n",
       "      <td>277067.95050</td>\n",
       "      <td>218109.66140</td>\n",
       "    </tr>\n",
       "    <tr>\n",
       "      <th>7</th>\n",
       "      <td>2000-01-31</td>\n",
       "      <td>57953.66333</td>\n",
       "      <td>Riverside County</td>\n",
       "      <td>CA</td>\n",
       "      <td>2000</td>\n",
       "      <td>1</td>\n",
       "      <td>96184.65994</td>\n",
       "      <td>239875.74880</td>\n",
       "      <td>49562.45471</td>\n",
       "    </tr>\n",
       "    <tr>\n",
       "      <th>8</th>\n",
       "      <td>2000-01-31</td>\n",
       "      <td>260395.51300</td>\n",
       "      <td>Queens County</td>\n",
       "      <td>NY</td>\n",
       "      <td>2000</td>\n",
       "      <td>1</td>\n",
       "      <td>57953.66333</td>\n",
       "      <td>127448.78140</td>\n",
       "      <td>230036.42630</td>\n",
       "    </tr>\n",
       "    <tr>\n",
       "      <th>9</th>\n",
       "      <td>2000-01-31</td>\n",
       "      <td>147179.80690</td>\n",
       "      <td>Sacramento County</td>\n",
       "      <td>CA</td>\n",
       "      <td>2000</td>\n",
       "      <td>1</td>\n",
       "      <td>260395.51300</td>\n",
       "      <td>96184.65994</td>\n",
       "      <td>277067.95050</td>\n",
       "    </tr>\n",
       "    <tr>\n",
       "      <th>10</th>\n",
       "      <td>2000-01-31</td>\n",
       "      <td>75407.69696</td>\n",
       "      <td>Davidson County</td>\n",
       "      <td>TN</td>\n",
       "      <td>2000</td>\n",
       "      <td>1</td>\n",
       "      <td>147179.80690</td>\n",
       "      <td>57953.66333</td>\n",
       "      <td>239875.74880</td>\n",
       "    </tr>\n",
       "  </tbody>\n",
       "</table>\n",
       "</div>"
      ],
      "text/plain": [
       "         Date  MedianHousePrice             County State  Year  Month  \\\n",
       "6  2000-01-31       96184.65994      Dallas County    TX  2000      1   \n",
       "7  2000-01-31       57953.66333   Riverside County    CA  2000      1   \n",
       "8  2000-01-31      260395.51300      Queens County    NY  2000      1   \n",
       "9  2000-01-31      147179.80690  Sacramento County    CA  2000      1   \n",
       "10 2000-01-31       75407.69696    Davidson County    TN  2000      1   \n",
       "\n",
       "     Lag_1_Month   Lag_3_Month   Lag_6_Month  \n",
       "6   127448.78140  277067.95050  218109.66140  \n",
       "7    96184.65994  239875.74880   49562.45471  \n",
       "8    57953.66333  127448.78140  230036.42630  \n",
       "9   260395.51300   96184.65994  277067.95050  \n",
       "10  147179.80690   57953.66333  239875.74880  "
      ]
     },
     "execution_count": 31,
     "metadata": {},
     "output_type": "execute_result"
    }
   ],
   "source": [
    "data_interpolated.head()"
   ]
  },
  {
   "cell_type": "markdown",
   "id": "248d5dfa-8100-4ddd-8205-783c5e57a1ff",
   "metadata": {},
   "source": [
    "## Exploratory Data Analysis\n",
    "\n",
    "* Visualize trends over time in median house prices\n",
    "* Look for seasonal patterns and variations in months"
   ]
  },
  {
   "cell_type": "code",
   "execution_count": 32,
   "id": "3f985287-ca99-430e-ad4a-1beefd5ee08d",
   "metadata": {},
   "outputs": [],
   "source": [
    "def plot_data_bqplot(df, title):\n",
    "    # Extract numerical columns for histogram\n",
    "    num_columns = df.select_dtypes(include=[np.number]).columns\n",
    "    figures = []\n",
    "    \n",
    "    # Create histograms for each numerical column\n",
    "    for col in num_columns:\n",
    "        hist, edges = np.histogram(df[col].dropna(), bins=25)\n",
    "        x_sc = LinearScale()\n",
    "        y_sc = LinearScale()\n",
    "        bar = Bars(x=edges[:-1], y=hist, scales={'x': x_sc, 'y': y_sc})\n",
    "        ax_x = Axis(scale=x_sc, label=col)\n",
    "        ax_y = Axis(scale=y_sc, orientation='vertical', tick_format='0.2f')\n",
    "        fig = Figure(marks=[bar], axes=[ax_x, ax_y], title=f'Histogram of {col}')\n",
    "        figures.append(fig)\n",
    "\n",
    "    # Arrange the histograms in a VBox\n",
    "    return VBox(figures, layout=Layout(flex_flow='row wrap', align_items='stretch', width='100%'))\n"
   ]
  },
  {
   "cell_type": "markdown",
   "id": "46b9a44d-b162-4833-a2dc-b5768c828cac",
   "metadata": {},
   "source": [
    "https://fred.stlouisfed.org/series/MSPUS#0"
   ]
  },
  {
   "cell_type": "markdown",
   "id": "3a3aa21f-779f-4d24-983f-d8a3ee6f4889",
   "metadata": {},
   "source": [
    "## Split the data into train and test sets\n",
    "* 20% for test data\n",
    "* Random state = constant for model reproducibility"
   ]
  },
  {
   "cell_type": "code",
   "execution_count": 33,
   "id": "d4bfcad2-ce79-4476-afdd-8098b29b9e64",
   "metadata": {},
   "outputs": [],
   "source": [
    "X = data_interpolated.drop(['MedianHousePrice'], axis=1)\n",
    "y = data_interpolated['MedianHousePrice']\n",
    "X_train_full, X_test_full, y_train, y_test = train_test_split(X, y, test_size=0.2, random_state=42)"
   ]
  },
  {
   "cell_type": "markdown",
   "id": "b25b13cc-9ccf-4fb6-9de2-1767928840b4",
   "metadata": {},
   "source": [
    "## Preserve Date Column in separate Series for later use in visualization"
   ]
  },
  {
   "cell_type": "code",
   "execution_count": 34,
   "id": "b96615ea-2f3b-4f7c-bcb5-9ded161ef2c2",
   "metadata": {},
   "outputs": [],
   "source": [
    "date_train = X_train_full['Date']\n",
    "date_test = X_test_full['Date']"
   ]
  },
  {
   "cell_type": "markdown",
   "id": "05fcbbed-862a-491f-86ec-5e1950d4534c",
   "metadata": {},
   "source": [
    "## Extract Date column from X_train and X_test for Training Models"
   ]
  },
  {
   "cell_type": "code",
   "execution_count": 35,
   "id": "5d5ab956-54ed-4805-a720-ca51fff0a65f",
   "metadata": {},
   "outputs": [],
   "source": [
    "X_train = X_train_full.drop('Date', axis=1)\n",
    "X_test = X_test_full.drop('Date', axis=1)"
   ]
  },
  {
   "cell_type": "markdown",
   "id": "f0e5e3e5-7809-488e-8778-c77a6d320f37",
   "metadata": {},
   "source": [
    "## Apply Logarithm Transformations \n",
    "* To the target variable (y)\n",
    "* To the numerical features with significant skew\n",
    "* * Year, Month, Lag_1_Month, Lag_3_Month, Lag_6_Month"
   ]
  },
  {
   "cell_type": "code",
   "execution_count": 36,
   "id": "f260aaab-78d3-44ad-b784-6ea2c2d97da1",
   "metadata": {},
   "outputs": [],
   "source": [
    "y_train_logged = np.log1p(y_train)\n",
    "y_test_logged = np.log1p(y_test)"
   ]
  },
  {
   "cell_type": "markdown",
   "id": "58ff63a5-394a-418b-b483-269dc67aefe3",
   "metadata": {},
   "source": [
    "## Apply Logarithmic Transformations to the lag features in the test set"
   ]
  },
  {
   "cell_type": "code",
   "execution_count": 37,
   "id": "0d518f03-5c79-4e80-9f3a-8efb9eb1c051",
   "metadata": {},
   "outputs": [],
   "source": [
    "lag_features = ['Lag_1_Month', 'Lag_3_Month', 'Lag_6_Month']\n",
    "X_train[lag_features] = X_train[lag_features].apply(lambda x: np.log1p(x))\n",
    "X_test[lag_features] = X_test[lag_features].apply(lambda x: np.log1p(x))"
   ]
  },
  {
   "cell_type": "markdown",
   "id": "509e9f72-1f55-438e-a0f4-9bf6892aac96",
   "metadata": {},
   "source": [
    "## Apply the Logarithmic Transformations to the full data to be used for visualizations"
   ]
  },
  {
   "cell_type": "code",
   "execution_count": 38,
   "id": "39531a8f-0aaf-4c09-9a58-0190570f15eb",
   "metadata": {},
   "outputs": [],
   "source": [
    "X_train_full[lag_features] = X_train_full[lag_features].apply(lambda x: np.log1p(x))\n",
    "X_test_full[lag_features] = X_test_full[lag_features].apply(lambda x: np.log1p(x))"
   ]
  },
  {
   "cell_type": "markdown",
   "id": "e5187754-7b43-46cf-92db-08b40b2cb5e5",
   "metadata": {},
   "source": [
    "## Visualize Data Before and After Logarithmic Transformations"
   ]
  },
  {
   "cell_type": "code",
   "execution_count": 39,
   "id": "6d58ac99-3463-4710-a74e-e8c0768181c8",
   "metadata": {},
   "outputs": [
    {
     "data": {
      "application/vnd.jupyter.widget-view+json": {
       "model_id": "cb3a1c8c89b640d3b61439c19e3ce31a",
       "version_major": 2,
       "version_minor": 0
      },
      "text/plain": [
       "VBox(children=(Figure(axes=[Axis(label='Year', scale=LinearScale()), Axis(orientation='vertical', scale=Linear…"
      ]
     },
     "execution_count": 39,
     "metadata": {},
     "output_type": "execute_result"
    }
   ],
   "source": [
    "plot_data_bqplot(X_train_full.assign(MedianHousePrice=y_train), 'Initial Data Visualization')"
   ]
  },
  {
   "cell_type": "code",
   "execution_count": 40,
   "id": "f022f535-6c33-425f-b0a8-46752877deeb",
   "metadata": {},
   "outputs": [
    {
     "data": {
      "application/vnd.jupyter.widget-view+json": {
       "model_id": "c776e0cdffc8487e894c8c6fe634bab6",
       "version_major": 2,
       "version_minor": 0
      },
      "text/plain": [
       "VBox(children=(Figure(axes=[Axis(label='Year', scale=LinearScale()), Axis(orientation='vertical', scale=Linear…"
      ]
     },
     "execution_count": 40,
     "metadata": {},
     "output_type": "execute_result"
    }
   ],
   "source": [
    "plot_data_bqplot(X_train_full.assign(LoggedMedianHousePrice=y_train_logged), 'Post-Transformation Data Visualization')"
   ]
  },
  {
   "cell_type": "markdown",
   "id": "8fffcbb6-9c7b-4e5c-87da-e276cd5d29c6",
   "metadata": {},
   "source": [
    "## Data Preparation for Modeling\n",
    "\n",
    "* One-hot encode categorical variables and scale numerical features"
   ]
  },
  {
   "cell_type": "markdown",
   "id": "197d6a29-7530-442c-9588-dc28d852f4fe",
   "metadata": {},
   "source": [
    "*Select categorical and numerical features*"
   ]
  },
  {
   "cell_type": "code",
   "execution_count": 41,
   "id": "ba118935-b7dc-4b84-8621-14a68d4bb7be",
   "metadata": {},
   "outputs": [],
   "source": [
    "numerical_features = ['Year', 'Month', 'Lag_1_Month', 'Lag_3_Month', 'Lag_6_Month']  # already log-transformed\n",
    "categorical_features = ['County', 'State']"
   ]
  },
  {
   "cell_type": "markdown",
   "id": "256fe695-48a9-45d9-a528-7b897b26f79d",
   "metadata": {},
   "source": [
    "*Create the ColumnTransformer Preprocessor with transformations for numerical and categorical data*"
   ]
  },
  {
   "cell_type": "code",
   "execution_count": 42,
   "id": "d76fef62-90ed-4cf2-b27f-219bb650cc49",
   "metadata": {},
   "outputs": [],
   "source": [
    "preprocessor = ColumnTransformer(\n",
    "    transformers=[\n",
    "        ('num', StandardScaler(), numerical_features),\n",
    "        ('cat', OneHotEncoder(drop='first'), categorical_features)\n",
    "    ])"
   ]
  },
  {
   "cell_type": "markdown",
   "id": "60e651fa-e918-4471-85f5-5631f6585713",
   "metadata": {},
   "source": [
    "__Combine the preprocessor with a model in a pipeline__"
   ]
  },
  {
   "cell_type": "code",
   "execution_count": 43,
   "id": "56b4ad34-e71e-4d5b-b88c-9bcea69fdd06",
   "metadata": {},
   "outputs": [],
   "source": [
    "linear_pipeline = Pipeline([\n",
    "    ('preprocessor', preprocessor),\n",
    "    ('regressor', LinearRegression())\n",
    "])\n",
    "\n",
    "ridge_pipeline = Pipeline([\n",
    "    ('preprocessor', preprocessor),\n",
    "    ('regressor', RidgeCV(alphas=np.logspace(-6, 6, 13)))\n",
    "])\n",
    "\n",
    "lasso_pipeline = Pipeline([\n",
    "    ('preprocessor', preprocessor),\n",
    "    ('regressor', LassoCV(alphas=np.logspace(-6, 6, 13), max_iter=10000, tol=0.01))\n",
    "])\n",
    "\n",
    "random_forest_pipeline = Pipeline([\n",
    "    ('preprocessor', preprocessor),\n",
    "    ('regressor', RandomForestRegressor(n_estimators=100, random_state=42, n_jobs=-1))\n",
    "])"
   ]
  },
  {
   "cell_type": "markdown",
   "id": "a3b4bbbd-d3e4-4399-a50b-9190c130c403",
   "metadata": {},
   "source": [
    "# Train and Evaluate Linear Regression, Random Forest Regressor, Ridge Regression, and Lasso Regression models\n",
    "* Train models on train dataset\n",
    "* Evaluate models on test dataset\n",
    "* Compare model's performance with and without ordinal formatted date included in dataset"
   ]
  },
  {
   "cell_type": "code",
   "execution_count": 44,
   "id": "f41a0190-b2b8-4ff1-bf95-b3eeb5df40b8",
   "metadata": {},
   "outputs": [
    {
     "name": "stdout",
     "output_type": "stream",
     "text": [
      "Linear Regression RMSE: 81285.68869731817, R^2: 0.5041390214455528\n",
      "Ridge Regression RMSE: 81162.49960902674, R^2: 0.5056408448466331\n",
      "Lasso Regression RMSE: 81339.41807421809, R^2: 0.503483282236388\n",
      "Random Forest RMSE: 62125.43809758818, R^2: 0.7103519010532411\n"
     ]
    }
   ],
   "source": [
    "# Function to fit and evaluate a given model\n",
    "def fit_and_evaluate(pipeline, X_train, y_train, X_test, y_test):\n",
    "    pipeline.fit(X_train, y_train)\n",
    "    y_pred_logged = pipeline.predict(X_test)\n",
    "    y_pred = np.expm1(y_pred_logged)  # inverse of log1p\n",
    "    rmse = np.sqrt(mean_squared_error(np.expm1(y_test), y_pred))\n",
    "    r2 = r2_score(np.expm1(y_test), y_pred)\n",
    "    return rmse, r2\n",
    "\n",
    "# Fit and evaluate each pipeline\n",
    "linear_rmse, linear_r2 = fit_and_evaluate(linear_pipeline, X_train_full, y_train_logged, X_test_full, y_test_logged)\n",
    "ridge_rmse, ridge_r2 = fit_and_evaluate(ridge_pipeline, X_train_full, y_train_logged, X_test_full, y_test_logged)\n",
    "lasso_rmse, lasso_r2 = fit_and_evaluate(lasso_pipeline, X_train_full, y_train_logged, X_test_full, y_test_logged)\n",
    "rf_rmse, rf_r2 = fit_and_evaluate(random_forest_pipeline, X_train_full, y_train_logged, X_test_full, y_test_logged)\n",
    "\n",
    "print(f'Linear Regression RMSE: {linear_rmse}, R^2: {linear_r2}')\n",
    "print(f'Ridge Regression RMSE: {ridge_rmse}, R^2: {ridge_r2}')\n",
    "print(f'Lasso Regression RMSE: {lasso_rmse}, R^2: {lasso_r2}')\n",
    "print(f'Random Forest RMSE: {rf_rmse}, R^2: {rf_r2}')"
   ]
  },
  {
   "cell_type": "markdown",
   "id": "510cd783-d1f7-47e5-8602-46323149ff2c",
   "metadata": {},
   "source": [
    "### Results of First Train and Evaluate without any model tuning\n",
    "* Linear Regression RMSE: 81285.60093863156, R^2: 0.5041400921404177\n",
    "* Ridge Regression RMSE: 81093.54334743644, R^2: 0.5064805104110306\n",
    "* Lasso Regression RMSE: 81339.41807421809, R^2: 0.503483282236388\n",
    "* Random Forest RMSE: 62125.43809758818, R^2: 0.7103519010532411"
   ]
  },
  {
   "cell_type": "markdown",
   "id": "2e8a5bbb-fb0a-4b77-823e-1af76d5323d7",
   "metadata": {},
   "source": [
    "## Perform Cross-Validation Grid-Search to Optimize Random Forest Parameters & Add eXtreme Gradient Boosting model to test for further fitting"
   ]
  },
  {
   "cell_type": "markdown",
   "id": "97fc9d7a-8d46-47ce-9811-e227ed7c93c1",
   "metadata": {},
   "source": [
    "*Setup the Pipelines for Random Forest and XGBoost*"
   ]
  },
  {
   "cell_type": "code",
   "execution_count": 45,
   "id": "207493a5-598a-42a4-9cab-7bb6f80f2fa2",
   "metadata": {},
   "outputs": [],
   "source": [
    "forest_pipeline = Pipeline([\n",
    "    ('preprocessor', preprocessor),\n",
    "    ('forest', RandomForestRegressor(random_state=42))\n",
    "])\n",
    "xgb_pipeline = Pipeline([\n",
    "    ('preprocessor', preprocessor),\n",
    "    ('xgb', xgb.XGBRegressor(objective='reg:squarederror', random_state=42))\n",
    "])"
   ]
  },
  {
   "cell_type": "markdown",
   "id": "cd0d33cc-2239-4a90-8698-654c98f9b8d5",
   "metadata": {},
   "source": [
    "*Parameters for GridSearchCV*"
   ]
  },
  {
   "cell_type": "code",
   "execution_count": 46,
   "id": "4547b8da-d071-4b2e-aae6-02a337aa9daa",
   "metadata": {},
   "outputs": [],
   "source": [
    "forest_params = {\n",
    "    'forest__n_estimators': [100, 200, 300],\n",
    "    'forest__max_features': [None, 'sqrt', 'log2'],\n",
    "    'forest__max_depth': [None, 10, 20, 30],\n",
    "    'forest__min_samples_split': [2, 5, 10],\n",
    "    'forest__min_samples_leaf': [1, 2, 4],\n",
    "}\n",
    "\n",
    "xgb_params = {\n",
    "    'xgb__n_estimators': [100, 200, 300],\n",
    "    'xgb__learning_rate': [0.01, 0.05, 0.1],\n",
    "    'xgb__max_depth': [3, 5, 7],\n",
    "    'xgb__colsample_bytree': [0.5, 0.7, 1.0]\n",
    "}"
   ]
  },
  {
   "cell_type": "markdown",
   "id": "66c9dae3-d284-4424-ab92-ad134f4d7732",
   "metadata": {},
   "source": [
    "*Create GridSearchCV for each model*"
   ]
  },
  {
   "cell_type": "code",
   "execution_count": 47,
   "id": "a16c7af4-187b-42a9-9785-06a9a6ecd274",
   "metadata": {},
   "outputs": [],
   "source": [
    "forest_grid = GridSearchCV(forest_pipeline, forest_params, cv=3, scoring='neg_mean_squared_error', verbose=1, n_jobs=-1)\n",
    "xgb_grid = GridSearchCV(xgb_pipeline, xgb_params, cv=3, scoring='neg_mean_squared_error', verbose=1, n_jobs=-1)"
   ]
  },
  {
   "cell_type": "markdown",
   "id": "3a777f29-86ae-483f-a608-51117d9a2ac4",
   "metadata": {},
   "source": [
    "*Fit the grid search to the data*"
   ]
  },
  {
   "cell_type": "code",
   "execution_count": null,
   "id": "4d04536d-3063-41f6-9e4a-8b0a40d1214c",
   "metadata": {},
   "outputs": [
    {
     "name": "stdout",
     "output_type": "stream",
     "text": [
      "Fitting 3 folds for each of 324 candidates, totalling 972 fits\n"
     ]
    }
   ],
   "source": [
    "forest_grid.fit(X_train, y_train)\n",
    "xgb_grid.fit(X_train, y_train)"
   ]
  },
  {
   "cell_type": "markdown",
   "id": "488baaff-8c1a-460b-89c1-169f59d70e59",
   "metadata": {},
   "source": [
    "__Best Models__"
   ]
  },
  {
   "cell_type": "code",
   "execution_count": null,
   "id": "323426d7-8d22-4bd2-8b3d-8a189bbf0dce",
   "metadata": {},
   "outputs": [],
   "source": [
    "forest_best = forest_grid.best_estimator_\n",
    "xgb_best = xgb_grid.best_estimator_"
   ]
  },
  {
   "cell_type": "markdown",
   "id": "f3d304c6-0fb9-43f7-a740-03c9263d46fe",
   "metadata": {},
   "source": [
    "## Predict and evaluate the models"
   ]
  },
  {
   "cell_type": "markdown",
   "id": "a07a6eb3-16bb-41a7-b93a-0b4f88ff7ce3",
   "metadata": {},
   "source": [
    "*Function to evaluate models*"
   ]
  },
  {
   "cell_type": "code",
   "execution_count": null,
   "id": "1b28dd9f-521b-4f92-86c4-2ec0b61c11a4",
   "metadata": {},
   "outputs": [],
   "source": [
    "def evaluate_model(model, X_test, y_test):\n",
    "    y_pred = model.predict(X_test)\n",
    "    y_pred = np.expm1(y_pred)  # Inverse of log1p\n",
    "    rmse = np.sqrt(root_mean_squarred_error(np.expm1(y_test), y_pred))\n",
    "    r2 = re_score(np.expm1(y_test), y_pred)\n",
    "    return rmse, r2"
   ]
  },
  {
   "cell_type": "markdown",
   "id": "b30d9261-e46b-4572-a371-ed42409eddf6",
   "metadata": {},
   "source": [
    "*Evaluate models*"
   ]
  },
  {
   "cell_type": "code",
   "execution_count": null,
   "id": "efd50458-7a8b-481f-9aee-e1bc7f251e15",
   "metadata": {},
   "outputs": [],
   "source": [
    "forest_rmse, forest_r2 = evaluate_model(forest_best, X_test, y_test)\n",
    "xbg_rmse, xgb_r2 = evaluate_model(xgb_best, X_test, y_test)"
   ]
  },
  {
   "cell_type": "markdown",
   "id": "789aff43-dffd-4f55-b690-0acb9dd10ef3",
   "metadata": {},
   "source": [
    "### Display the Results of the GridSeachCV for Random Forest and eXtreme Gradient Boosting models"
   ]
  },
  {
   "cell_type": "markdown",
   "id": "e3c57b32-66f0-4ed7-8386-7e1a9be4aa59",
   "metadata": {},
   "source": [
    "print('Random Forest Best Params: {forest_grid.best_params_}, RMSE: {forest_rmse}, R2: {forest_r2}')\n",
    "print('XGB Best Params: {xbg_grid.best_params}, RMSE: {xgb_rmse}, R2: {xgb_r2}')"
   ]
  }
 ],
 "metadata": {
  "kernelspec": {
   "display_name": "Python 3 (ipykernel)",
   "language": "python",
   "name": "python3"
  },
  "language_info": {
   "codemirror_mode": {
    "name": "ipython",
    "version": 3
   },
   "file_extension": ".py",
   "mimetype": "text/x-python",
   "name": "python",
   "nbconvert_exporter": "python",
   "pygments_lexer": "ipython3",
   "version": "3.12.2"
  }
 },
 "nbformat": 4,
 "nbformat_minor": 5
}
